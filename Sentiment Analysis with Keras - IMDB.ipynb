{
 "cells": [
  {
   "cell_type": "markdown",
   "metadata": {},
   "source": [
    "### Keras: Python library for deep learning\n",
    "### Tensorflow: Open source library for ML\n"
   ]
  },
  {
   "cell_type": "markdown",
   "metadata": {},
   "source": [
    "### 1. Setup"
   ]
  },
  {
   "cell_type": "code",
   "execution_count": 29,
   "metadata": {},
   "outputs": [],
   "source": [
    "import pandas as pd \n",
    "import tensorflow as tf\n",
    "import numpy as np\n",
    "import matplotlib.pyplot as plt\n",
    "import string\n",
    "import re\n",
    "import seaborn as sns\n",
    "from tensorflow.keras.layers.experimental.preprocessing import TextVectorization"
   ]
  },
  {
   "cell_type": "markdown",
   "metadata": {},
   "source": [
    "### 2. Load Data\n",
    "* We will use tf.keras.preprocessing.text_dataset_from_directory utility to transform our data in tf.data.Dataset format. "
   ]
  },
  {
   "cell_type": "code",
   "execution_count": 3,
   "metadata": {},
   "outputs": [
    {
     "name": "stdout",
     "output_type": "stream",
     "text": [
      "Found 25000 files belonging to 2 classes.\n",
      "Using 20000 files for training.\n"
     ]
    }
   ],
   "source": [
    "batch_size = 32\n",
    "seed = 42\n",
    "raw_train_ds = tf.keras.preprocessing.text_dataset_from_directory('/home/nirzaree/Data/MLDatasets/StanfordMovieRatingDatabase/aclImdb_v1/aclImdb/train/',\n",
    "                                                                 batch_size=batch_size,\n",
    "                                                                 validation_split=0.2,\n",
    "                                                                 subset='training',\n",
    "                                                                 seed=seed)"
   ]
  },
  {
   "cell_type": "code",
   "execution_count": 27,
   "metadata": {},
   "outputs": [
    {
     "name": "stdout",
     "output_type": "stream",
     "text": [
      "Found 25000 files belonging to 2 classes.\n",
      "Using 5000 files for validation.\n"
     ]
    }
   ],
   "source": [
    "raw_val_ds = tf.keras.preprocessing.text_dataset_from_directory('/home/nirzaree/Data/MLDatasets/StanfordMovieRatingDatabase/aclImdb_v1/aclImdb/train/',\n",
    "                                                                 batch_size=batch_size,\n",
    "                                                                 validation_split=0.2,\n",
    "                                                                 subset='validation',\n",
    "                                                                 seed=seed)"
   ]
  },
  {
   "cell_type": "markdown",
   "metadata": {},
   "source": [
    "#### Check some data"
   ]
  },
  {
   "cell_type": "code",
   "execution_count": 6,
   "metadata": {},
   "outputs": [
    {
     "name": "stdout",
     "output_type": "stream",
     "text": [
      "Review: b'\"Pandemonium\" is a horror movie spoof that comes off more stupid than funny. Believe me when I tell you, I love comedies. Especially comedy spoofs. \"Airplane\", \"The Naked Gun\" trilogy, \"Blazing Saddles\", \"High Anxiety\", and \"Spaceballs\" are some of my favorite comedies that spoof a particular genre. \"Pandemonium\" is not up there with those films. Most of the scenes in this movie had me sitting there in stunned silence because the movie wasn\\'t all that funny. There are a few laughs in the film, but when you watch a comedy, you expect to laugh a lot more than a few times and that\\'s all this film has going for it. Geez, \"Scream\" had more laughs than this film and that was more of a horror film. How bizarre is that?<br /><br />*1/2 (out of four)'\n",
      "Label: 0\n",
      "Review: b\"David Mamet is a very interesting and a very un-equal director. His first movie 'House of Games' was the one I liked best, and it set a series of films with characters whose perspective of life changes as they get into complicated situations, and so does the perspective of the viewer.<br /><br />So is 'Homicide' which from the title tries to set the mind of the viewer to the usual crime drama. The principal characters are two cops, one Jewish and one Irish who deal with a racially charged area. The murder of an old Jewish shop owner who proves to be an ancient veteran of the Israeli Independence war triggers the Jewish identity in the mind and heart of the Jewish detective.<br /><br />This is were the flaws of the film are the more obvious. The process of awakening is theatrical and hard to believe, the group of Jewish militants is operatic, and the way the detective eventually walks to the final violent confrontation is pathetic. The end of the film itself is Mamet-like smart, but disappoints from a human emotional perspective.<br /><br />Joe Mantegna and William Macy give strong performances, but the flaws of the story are too evident to be easily compensated.\"\n",
      "Label: 0\n",
      "Review: b'Great documentary about the lives of NY firefighters during the worst terrorist attack of all time.. That reason alone is why this should be a must see collectors item.. What shocked me was not only the attacks, but the\"High Fat Diet\" and physical appearance of some of these firefighters. I think a lot of Doctors would agree with me that,in the physical shape they were in, some of these firefighters would NOT of made it to the 79th floor carrying over 60 lbs of gear. Having said that i now have a greater respect for firefighters and i realize becoming a firefighter is a life altering job. The French have a history of making great documentary\\'s and that is what this is, a Great Documentary.....'\n",
      "Label: 1\n"
     ]
    }
   ],
   "source": [
    "for text_batch,label_batch in raw_train_ds.take(1):\n",
    "    for i in range(3):\n",
    "        print('Review:',text_batch.numpy()[i])\n",
    "        print('Label:',label_batch.numpy()[i])"
   ]
  },
  {
   "cell_type": "markdown",
   "metadata": {},
   "source": [
    "* Label mapping check"
   ]
  },
  {
   "cell_type": "code",
   "execution_count": 7,
   "metadata": {},
   "outputs": [
    {
     "name": "stdout",
     "output_type": "stream",
     "text": [
      "Label: 0 corresponds to neg\n",
      "Label: 1 corresponds to pos\n"
     ]
    }
   ],
   "source": [
    "print('Label: 0 corresponds to',raw_train_ds.class_names[0])\n",
    "print('Label: 1 corresponds to',raw_train_ds.class_names[1])"
   ]
  },
  {
   "cell_type": "code",
   "execution_count": 11,
   "metadata": {},
   "outputs": [
    {
     "name": "stdout",
     "output_type": "stream",
     "text": [
      "Found 25000 files belonging to 2 classes.\n"
     ]
    }
   ],
   "source": [
    "raw_test_ds = tf.keras.preprocessing.text_dataset_from_directory('/home/nirzaree/Data/MLDatasets/StanfordMovieRatingDatabase/aclImdb_v1/aclImdb/test',batch_size=batch_size)"
   ]
  },
  {
   "cell_type": "markdown",
   "metadata": {},
   "source": [
    "### 3. Preprocess the data: Standardize, Tokenize, Vectorize\n",
    "* Standardization\n",
    "* Tokenization\n",
    "* Vectorization"
   ]
  },
  {
   "cell_type": "code",
   "execution_count": 9,
   "metadata": {},
   "outputs": [
    {
     "data": {
      "text/plain": [
       "'!\"#$%&\\'()*+,-./:;<=>?@[\\\\]^_`{|}~'"
      ]
     },
     "execution_count": 9,
     "metadata": {},
     "output_type": "execute_result"
    }
   ],
   "source": [
    "string.punctuation"
   ]
  },
  {
   "cell_type": "code",
   "execution_count": 18,
   "metadata": {},
   "outputs": [],
   "source": [
    "def standardize_input_text(input_data):\n",
    "    lowercase = tf.strings.lower(input_data)\n",
    "    html_removed = tf.strings.regex_replace(lowercase,'<br />',' ')\n",
    "    return tf.strings.regex_replace(html_removed,'[%s]' % re.escape(string.punctuation),'')"
   ]
  },
  {
   "cell_type": "markdown",
   "metadata": {},
   "source": [
    "* todo: understand:\n",
    "        '[%s]' % re.escape(string.punctuation)"
   ]
  },
  {
   "cell_type": "code",
   "execution_count": null,
   "metadata": {},
   "outputs": [],
   "source": [
    "# * Why cant re be used here? like this:\n",
    "#     def standardize_input_text(input_data):\n",
    "#     input_data = re.sub('<br />',' ',input_data)\n",
    "#     input_data = re.sub(string.punctuation,' ',input_data)\n",
    "#     return(input_data)"
   ]
  },
  {
   "cell_type": "markdown",
   "metadata": {},
   "source": [
    "### Vectorization layer"
   ]
  },
  {
   "cell_type": "code",
   "execution_count": 19,
   "metadata": {},
   "outputs": [],
   "source": [
    "max_features = 10000\n",
    "sequence_length = 250\n",
    "vectorization_layer = TextVectorization(standardize = standardize_input_text,\n",
    "                                        max_tokens = max_features,\n",
    "                                        output_mode = 'int',\n",
    "                                        output_sequence_length = sequence_length)"
   ]
  },
  {
   "cell_type": "markdown",
   "metadata": {},
   "source": [
    "* call the adapt method to fit the vectorization on the training data"
   ]
  },
  {
   "cell_type": "code",
   "execution_count": 20,
   "metadata": {},
   "outputs": [],
   "source": [
    "#only text not labels\n",
    "train_text = raw_train_ds.map(lambda x,y:x)\n",
    "vectorization_layer.adapt(train_text)"
   ]
  },
  {
   "cell_type": "markdown",
   "metadata": {},
   "source": [
    "#### Check vectorization output"
   ]
  },
  {
   "cell_type": "code",
   "execution_count": 21,
   "metadata": {},
   "outputs": [],
   "source": [
    "def vectorize_text(text,label):\n",
    "    text = tf.expand_dims(text,-1) #Returns a tensor with a length 1 axis inserted at index axis.\n",
    "    return vectorization_layer(text),label"
   ]
  },
  {
   "cell_type": "code",
   "execution_count": 25,
   "metadata": {},
   "outputs": [
    {
     "name": "stdout",
     "output_type": "stream",
     "text": [
      "First review tf.Tensor(b'Recipe for one of the worst movies of all time: a she-male villain who looks like it escaped from the WWF, has terrible aim with a gun that has inconsistent effects (the first guy she shoots catches on fire but when she shoots anyone else they just disappear) and takes time out to pet a deer. Then you got the unlikable characters, 30 year old college students, a lame attempt at a surprise ending and lots, lots more. Avoid at all costs.', shape=(), dtype=string)\n",
      "First label neg\n",
      "Vectorized review (<tf.Tensor: shape=(1, 250), dtype=int64, numpy=\n",
      "array([[9257,   15,   28,    5,    2,  241,   91,    5,   30,   58,    4,\n",
      "           1, 1011,   36,  262,   38,    9, 3891,   35,    2,    1,   43,\n",
      "         382, 5223,   16,    4, 1113,   12,   43, 5739,  300,    2,   83,\n",
      "         225,   55, 3209, 3898,   20,  973,   18,   51,   55, 3209,  250,\n",
      "         320,   34,   40, 4386,    3,  294,   58,   44,    6, 2911,    4,\n",
      "        6757,   92,   22,  184,    2, 4916,  100, 1221,  336,  161, 1199,\n",
      "        1484,    4,  808,  568,   31,    4,  839,  270,    3,  741,  741,\n",
      "          50,  774,   31,   30, 2070,    0,    0,    0,    0,    0,    0,\n",
      "           0,    0,    0,    0,    0,    0,    0,    0,    0,    0,    0,\n",
      "           0,    0,    0,    0,    0,    0,    0,    0,    0,    0,    0,\n",
      "           0,    0,    0,    0,    0,    0,    0,    0,    0,    0,    0,\n",
      "           0,    0,    0,    0,    0,    0,    0,    0,    0,    0,    0,\n",
      "           0,    0,    0,    0,    0,    0,    0,    0,    0,    0,    0,\n",
      "           0,    0,    0,    0,    0,    0,    0,    0,    0,    0,    0,\n",
      "           0,    0,    0,    0,    0,    0,    0,    0,    0,    0,    0,\n",
      "           0,    0,    0,    0,    0,    0,    0,    0,    0,    0,    0,\n",
      "           0,    0,    0,    0,    0,    0,    0,    0,    0,    0,    0,\n",
      "           0,    0,    0,    0,    0,    0,    0,    0,    0,    0,    0,\n",
      "           0,    0,    0,    0,    0,    0,    0,    0,    0,    0,    0,\n",
      "           0,    0,    0,    0,    0,    0,    0,    0,    0,    0,    0,\n",
      "           0,    0,    0,    0,    0,    0,    0,    0,    0,    0,    0,\n",
      "           0,    0,    0,    0,    0,    0,    0,    0,    0,    0,    0,\n",
      "           0,    0,    0,    0,    0,    0,    0,    0]])>, <tf.Tensor: shape=(), dtype=int32, numpy=0>)\n"
     ]
    }
   ],
   "source": [
    "text_batch,label_batch = next(iter(raw_train_ds))\n",
    "first_review,first_label = text_batch[0],label_batch[0]\n",
    "print('First review',first_review)\n",
    "print('First label',raw_train_ds.class_names[first_label])\n",
    "print('Vectorized review',vectorize_text(first_review,first_label))"
   ]
  },
  {
   "cell_type": "code",
   "execution_count": 26,
   "metadata": {},
   "outputs": [
    {
     "name": "stdout",
     "output_type": "stream",
     "text": [
      "9257 --> recipe\n",
      "15 --> for\n",
      "28 --> one\n"
     ]
    }
   ],
   "source": [
    "print('9257 -->', vectorization_layer.get_vocabulary()[9257])\n",
    "print('15 -->', vectorization_layer.get_vocabulary()[15])\n",
    "print('28 -->', vectorization_layer.get_vocabulary()[28])\n"
   ]
  },
  {
   "cell_type": "markdown",
   "metadata": {},
   "source": [
    "#### Apply vectorization on validation and test set "
   ]
  },
  {
   "cell_type": "code",
   "execution_count": 28,
   "metadata": {},
   "outputs": [],
   "source": [
    "train_ds = raw_train_ds.map(vectorize_text)\n",
    "val_ds = raw_val_ds.map(vectorize_text)\n",
    "test_ds = raw_test_ds.map(vectorize_text)\n"
   ]
  },
  {
   "cell_type": "code",
   "execution_count": null,
   "metadata": {},
   "outputs": [],
   "source": []
  },
  {
   "cell_type": "markdown",
   "metadata": {},
   "source": [
    "APIs:\n",
    "    1. tf.keras.preprocessing.text_dataset_from_directory: to prepare data in tf.data.Dataset format from directory structure on the disk\n",
    "    2. ds.take(n) takes nth example or n examples. Need to check\n",
    "    3. text_batch,label_batch from ds.take(n) and then text_batch.numpy()[i] for printing ith sample text and label_batch.numpy()[i] for ith sample label\n",
    "    4. TextVectorization from tf.keras.layers.experimental to vectorize the text\n",
    "    5. expand_dims: returns a tensor with added dim of length 1 at 'axis' index"
   ]
  },
  {
   "cell_type": "code",
   "execution_count": null,
   "metadata": {},
   "outputs": [],
   "source": []
  }
 ],
 "metadata": {
  "kernelspec": {
   "display_name": "Python 3",
   "language": "python",
   "name": "python3"
  },
  "language_info": {
   "codemirror_mode": {
    "name": "ipython",
    "version": 3
   },
   "file_extension": ".py",
   "mimetype": "text/x-python",
   "name": "python",
   "nbconvert_exporter": "python",
   "pygments_lexer": "ipython3",
   "version": "3.8.3"
  }
 },
 "nbformat": 4,
 "nbformat_minor": 4
}
