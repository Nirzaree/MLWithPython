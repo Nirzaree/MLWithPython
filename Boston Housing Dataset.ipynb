{
 "cells": [
  {
   "cell_type": "markdown",
   "metadata": {},
   "source": [
    "### 1. Setup "
   ]
  },
  {
   "cell_type": "code",
   "execution_count": 1,
   "metadata": {},
   "outputs": [],
   "source": [
    "import numpy as np\n",
    "import pandas as pd\n",
    "import matplotlib.pyplot as plt \n",
    "import seaborn as sns\n",
    "\n",
    "from sklearn.datasets import load_boston\n",
    "from sklearn.metrics import mean_squared_error,mean_absolute_error,r2_score"
   ]
  },
  {
   "cell_type": "markdown",
   "metadata": {},
   "source": [
    "### 2. Load Data"
   ]
  },
  {
   "cell_type": "code",
   "execution_count": 2,
   "metadata": {},
   "outputs": [
    {
     "name": "stdout",
     "output_type": "stream",
     "text": [
      ".. _boston_dataset:\n",
      "\n",
      "Boston house prices dataset\n",
      "---------------------------\n",
      "\n",
      "**Data Set Characteristics:**  \n",
      "\n",
      "    :Number of Instances: 506 \n",
      "\n",
      "    :Number of Attributes: 13 numeric/categorical predictive. Median Value (attribute 14) is usually the target.\n",
      "\n",
      "    :Attribute Information (in order):\n",
      "        - CRIM     per capita crime rate by town\n",
      "        - ZN       proportion of residential land zoned for lots over 25,000 sq.ft.\n",
      "        - INDUS    proportion of non-retail business acres per town\n",
      "        - CHAS     Charles River dummy variable (= 1 if tract bounds river; 0 otherwise)\n",
      "        - NOX      nitric oxides concentration (parts per 10 million)\n",
      "        - RM       average number of rooms per dwelling\n",
      "        - AGE      proportion of owner-occupied units built prior to 1940\n",
      "        - DIS      weighted distances to five Boston employment centres\n",
      "        - RAD      index of accessibility to radial highways\n",
      "        - TAX      full-value property-tax rate per $10,000\n",
      "        - PTRATIO  pupil-teacher ratio by town\n",
      "        - B        1000(Bk - 0.63)^2 where Bk is the proportion of blacks by town\n",
      "        - LSTAT    % lower status of the population\n",
      "        - MEDV     Median value of owner-occupied homes in $1000's\n",
      "\n",
      "    :Missing Attribute Values: None\n",
      "\n",
      "    :Creator: Harrison, D. and Rubinfeld, D.L.\n",
      "\n",
      "This is a copy of UCI ML housing dataset.\n",
      "https://archive.ics.uci.edu/ml/machine-learning-databases/housing/\n",
      "\n",
      "\n",
      "This dataset was taken from the StatLib library which is maintained at Carnegie Mellon University.\n",
      "\n",
      "The Boston house-price data of Harrison, D. and Rubinfeld, D.L. 'Hedonic\n",
      "prices and the demand for clean air', J. Environ. Economics & Management,\n",
      "vol.5, 81-102, 1978.   Used in Belsley, Kuh & Welsch, 'Regression diagnostics\n",
      "...', Wiley, 1980.   N.B. Various transformations are used in the table on\n",
      "pages 244-261 of the latter.\n",
      "\n",
      "The Boston house-price data has been used in many machine learning papers that address regression\n",
      "problems.   \n",
      "     \n",
      ".. topic:: References\n",
      "\n",
      "   - Belsley, Kuh & Welsch, 'Regression diagnostics: Identifying Influential Data and Sources of Collinearity', Wiley, 1980. 244-261.\n",
      "   - Quinlan,R. (1993). Combining Instance-Based and Model-Based Learning. In Proceedings on the Tenth International Conference of Machine Learning, 236-243, University of Massachusetts, Amherst. Morgan Kaufmann.\n",
      "\n"
     ]
    }
   ],
   "source": [
    "BostonData = load_boston()\n",
    "print(BostonData.DESCR)"
   ]
  },
  {
   "cell_type": "code",
   "execution_count": 3,
   "metadata": {},
   "outputs": [],
   "source": [
    "X_Boston,y_Boston = load_boston(return_X_y=True)"
   ]
  },
  {
   "cell_type": "code",
   "execution_count": 4,
   "metadata": {},
   "outputs": [],
   "source": [
    "X_Boston = pd.DataFrame(X_Boston,columns=BostonData.feature_names)\n",
    "y_Boston = pd.Series(y_Boston,name='MEDV')"
   ]
  },
  {
   "cell_type": "code",
   "execution_count": 5,
   "metadata": {},
   "outputs": [
    {
     "data": {
      "text/html": [
       "<div>\n",
       "<style scoped>\n",
       "    .dataframe tbody tr th:only-of-type {\n",
       "        vertical-align: middle;\n",
       "    }\n",
       "\n",
       "    .dataframe tbody tr th {\n",
       "        vertical-align: top;\n",
       "    }\n",
       "\n",
       "    .dataframe thead th {\n",
       "        text-align: right;\n",
       "    }\n",
       "</style>\n",
       "<table border=\"1\" class=\"dataframe\">\n",
       "  <thead>\n",
       "    <tr style=\"text-align: right;\">\n",
       "      <th></th>\n",
       "      <th>CRIM</th>\n",
       "      <th>ZN</th>\n",
       "      <th>INDUS</th>\n",
       "      <th>CHAS</th>\n",
       "      <th>NOX</th>\n",
       "      <th>RM</th>\n",
       "      <th>AGE</th>\n",
       "      <th>DIS</th>\n",
       "      <th>RAD</th>\n",
       "      <th>TAX</th>\n",
       "      <th>PTRATIO</th>\n",
       "      <th>B</th>\n",
       "      <th>LSTAT</th>\n",
       "    </tr>\n",
       "  </thead>\n",
       "  <tbody>\n",
       "    <tr>\n",
       "      <th>0</th>\n",
       "      <td>0.00632</td>\n",
       "      <td>18.0</td>\n",
       "      <td>2.31</td>\n",
       "      <td>0.0</td>\n",
       "      <td>0.538</td>\n",
       "      <td>6.575</td>\n",
       "      <td>65.2</td>\n",
       "      <td>4.0900</td>\n",
       "      <td>1.0</td>\n",
       "      <td>296.0</td>\n",
       "      <td>15.3</td>\n",
       "      <td>396.90</td>\n",
       "      <td>4.98</td>\n",
       "    </tr>\n",
       "    <tr>\n",
       "      <th>1</th>\n",
       "      <td>0.02731</td>\n",
       "      <td>0.0</td>\n",
       "      <td>7.07</td>\n",
       "      <td>0.0</td>\n",
       "      <td>0.469</td>\n",
       "      <td>6.421</td>\n",
       "      <td>78.9</td>\n",
       "      <td>4.9671</td>\n",
       "      <td>2.0</td>\n",
       "      <td>242.0</td>\n",
       "      <td>17.8</td>\n",
       "      <td>396.90</td>\n",
       "      <td>9.14</td>\n",
       "    </tr>\n",
       "    <tr>\n",
       "      <th>2</th>\n",
       "      <td>0.02729</td>\n",
       "      <td>0.0</td>\n",
       "      <td>7.07</td>\n",
       "      <td>0.0</td>\n",
       "      <td>0.469</td>\n",
       "      <td>7.185</td>\n",
       "      <td>61.1</td>\n",
       "      <td>4.9671</td>\n",
       "      <td>2.0</td>\n",
       "      <td>242.0</td>\n",
       "      <td>17.8</td>\n",
       "      <td>392.83</td>\n",
       "      <td>4.03</td>\n",
       "    </tr>\n",
       "    <tr>\n",
       "      <th>3</th>\n",
       "      <td>0.03237</td>\n",
       "      <td>0.0</td>\n",
       "      <td>2.18</td>\n",
       "      <td>0.0</td>\n",
       "      <td>0.458</td>\n",
       "      <td>6.998</td>\n",
       "      <td>45.8</td>\n",
       "      <td>6.0622</td>\n",
       "      <td>3.0</td>\n",
       "      <td>222.0</td>\n",
       "      <td>18.7</td>\n",
       "      <td>394.63</td>\n",
       "      <td>2.94</td>\n",
       "    </tr>\n",
       "    <tr>\n",
       "      <th>4</th>\n",
       "      <td>0.06905</td>\n",
       "      <td>0.0</td>\n",
       "      <td>2.18</td>\n",
       "      <td>0.0</td>\n",
       "      <td>0.458</td>\n",
       "      <td>7.147</td>\n",
       "      <td>54.2</td>\n",
       "      <td>6.0622</td>\n",
       "      <td>3.0</td>\n",
       "      <td>222.0</td>\n",
       "      <td>18.7</td>\n",
       "      <td>396.90</td>\n",
       "      <td>5.33</td>\n",
       "    </tr>\n",
       "    <tr>\n",
       "      <th>5</th>\n",
       "      <td>0.02985</td>\n",
       "      <td>0.0</td>\n",
       "      <td>2.18</td>\n",
       "      <td>0.0</td>\n",
       "      <td>0.458</td>\n",
       "      <td>6.430</td>\n",
       "      <td>58.7</td>\n",
       "      <td>6.0622</td>\n",
       "      <td>3.0</td>\n",
       "      <td>222.0</td>\n",
       "      <td>18.7</td>\n",
       "      <td>394.12</td>\n",
       "      <td>5.21</td>\n",
       "    </tr>\n",
       "    <tr>\n",
       "      <th>6</th>\n",
       "      <td>0.08829</td>\n",
       "      <td>12.5</td>\n",
       "      <td>7.87</td>\n",
       "      <td>0.0</td>\n",
       "      <td>0.524</td>\n",
       "      <td>6.012</td>\n",
       "      <td>66.6</td>\n",
       "      <td>5.5605</td>\n",
       "      <td>5.0</td>\n",
       "      <td>311.0</td>\n",
       "      <td>15.2</td>\n",
       "      <td>395.60</td>\n",
       "      <td>12.43</td>\n",
       "    </tr>\n",
       "    <tr>\n",
       "      <th>7</th>\n",
       "      <td>0.14455</td>\n",
       "      <td>12.5</td>\n",
       "      <td>7.87</td>\n",
       "      <td>0.0</td>\n",
       "      <td>0.524</td>\n",
       "      <td>6.172</td>\n",
       "      <td>96.1</td>\n",
       "      <td>5.9505</td>\n",
       "      <td>5.0</td>\n",
       "      <td>311.0</td>\n",
       "      <td>15.2</td>\n",
       "      <td>396.90</td>\n",
       "      <td>19.15</td>\n",
       "    </tr>\n",
       "    <tr>\n",
       "      <th>8</th>\n",
       "      <td>0.21124</td>\n",
       "      <td>12.5</td>\n",
       "      <td>7.87</td>\n",
       "      <td>0.0</td>\n",
       "      <td>0.524</td>\n",
       "      <td>5.631</td>\n",
       "      <td>100.0</td>\n",
       "      <td>6.0821</td>\n",
       "      <td>5.0</td>\n",
       "      <td>311.0</td>\n",
       "      <td>15.2</td>\n",
       "      <td>386.63</td>\n",
       "      <td>29.93</td>\n",
       "    </tr>\n",
       "    <tr>\n",
       "      <th>9</th>\n",
       "      <td>0.17004</td>\n",
       "      <td>12.5</td>\n",
       "      <td>7.87</td>\n",
       "      <td>0.0</td>\n",
       "      <td>0.524</td>\n",
       "      <td>6.004</td>\n",
       "      <td>85.9</td>\n",
       "      <td>6.5921</td>\n",
       "      <td>5.0</td>\n",
       "      <td>311.0</td>\n",
       "      <td>15.2</td>\n",
       "      <td>386.71</td>\n",
       "      <td>17.10</td>\n",
       "    </tr>\n",
       "  </tbody>\n",
       "</table>\n",
       "</div>"
      ],
      "text/plain": [
       "      CRIM    ZN  INDUS  CHAS    NOX     RM    AGE     DIS  RAD    TAX  \\\n",
       "0  0.00632  18.0   2.31   0.0  0.538  6.575   65.2  4.0900  1.0  296.0   \n",
       "1  0.02731   0.0   7.07   0.0  0.469  6.421   78.9  4.9671  2.0  242.0   \n",
       "2  0.02729   0.0   7.07   0.0  0.469  7.185   61.1  4.9671  2.0  242.0   \n",
       "3  0.03237   0.0   2.18   0.0  0.458  6.998   45.8  6.0622  3.0  222.0   \n",
       "4  0.06905   0.0   2.18   0.0  0.458  7.147   54.2  6.0622  3.0  222.0   \n",
       "5  0.02985   0.0   2.18   0.0  0.458  6.430   58.7  6.0622  3.0  222.0   \n",
       "6  0.08829  12.5   7.87   0.0  0.524  6.012   66.6  5.5605  5.0  311.0   \n",
       "7  0.14455  12.5   7.87   0.0  0.524  6.172   96.1  5.9505  5.0  311.0   \n",
       "8  0.21124  12.5   7.87   0.0  0.524  5.631  100.0  6.0821  5.0  311.0   \n",
       "9  0.17004  12.5   7.87   0.0  0.524  6.004   85.9  6.5921  5.0  311.0   \n",
       "\n",
       "   PTRATIO       B  LSTAT  \n",
       "0     15.3  396.90   4.98  \n",
       "1     17.8  396.90   9.14  \n",
       "2     17.8  392.83   4.03  \n",
       "3     18.7  394.63   2.94  \n",
       "4     18.7  396.90   5.33  \n",
       "5     18.7  394.12   5.21  \n",
       "6     15.2  395.60  12.43  \n",
       "7     15.2  396.90  19.15  \n",
       "8     15.2  386.63  29.93  \n",
       "9     15.2  386.71  17.10  "
      ]
     },
     "execution_count": 5,
     "metadata": {},
     "output_type": "execute_result"
    }
   ],
   "source": [
    "X_Boston.head(10)"
   ]
  },
  {
   "cell_type": "code",
   "execution_count": 6,
   "metadata": {},
   "outputs": [
    {
     "data": {
      "text/plain": [
       "0    24.0\n",
       "1    21.6\n",
       "2    34.7\n",
       "3    33.4\n",
       "4    36.2\n",
       "5    28.7\n",
       "6    22.9\n",
       "7    27.1\n",
       "8    16.5\n",
       "9    18.9\n",
       "Name: MEDV, dtype: float64"
      ]
     },
     "execution_count": 6,
     "metadata": {},
     "output_type": "execute_result"
    }
   ],
   "source": [
    "y_Boston.head(10)"
   ]
  },
  {
   "cell_type": "markdown",
   "metadata": {},
   "source": [
    "### 3. Cleaning, Preprocessing"
   ]
  },
  {
   "cell_type": "markdown",
   "metadata": {},
   "source": [
    "#### a. Drop duplicates, NA"
   ]
  },
  {
   "cell_type": "code",
   "execution_count": 7,
   "metadata": {},
   "outputs": [
    {
     "data": {
      "text/plain": [
       "CRIM       0\n",
       "ZN         0\n",
       "INDUS      0\n",
       "CHAS       0\n",
       "NOX        0\n",
       "RM         0\n",
       "AGE        0\n",
       "DIS        0\n",
       "RAD        0\n",
       "TAX        0\n",
       "PTRATIO    0\n",
       "B          0\n",
       "LSTAT      0\n",
       "dtype: int64"
      ]
     },
     "execution_count": 7,
     "metadata": {},
     "output_type": "execute_result"
    }
   ],
   "source": [
    "X_Boston.isna().sum()"
   ]
  },
  {
   "cell_type": "code",
   "execution_count": 8,
   "metadata": {},
   "outputs": [
    {
     "data": {
      "text/plain": [
       "0"
      ]
     },
     "execution_count": 8,
     "metadata": {},
     "output_type": "execute_result"
    }
   ],
   "source": [
    "y_Boston.isna().sum()"
   ]
  },
  {
   "cell_type": "code",
   "execution_count": 9,
   "metadata": {},
   "outputs": [
    {
     "name": "stdout",
     "output_type": "stream",
     "text": [
      "(506, 13)\n",
      "(506, 13)\n"
     ]
    }
   ],
   "source": [
    "shape_X = X_Boston.shape\n",
    "print(shape_X)\n",
    "X_Boston2 = X_Boston.drop_duplicates()\n",
    "print(X_Boston2.shape)"
   ]
  },
  {
   "cell_type": "code",
   "execution_count": 10,
   "metadata": {},
   "outputs": [],
   "source": [
    "del X_Boston2"
   ]
  },
  {
   "cell_type": "code",
   "execution_count": 11,
   "metadata": {},
   "outputs": [
    {
     "data": {
      "text/html": [
       "<div>\n",
       "<style scoped>\n",
       "    .dataframe tbody tr th:only-of-type {\n",
       "        vertical-align: middle;\n",
       "    }\n",
       "\n",
       "    .dataframe tbody tr th {\n",
       "        vertical-align: top;\n",
       "    }\n",
       "\n",
       "    .dataframe thead th {\n",
       "        text-align: right;\n",
       "    }\n",
       "</style>\n",
       "<table border=\"1\" class=\"dataframe\">\n",
       "  <thead>\n",
       "    <tr style=\"text-align: right;\">\n",
       "      <th></th>\n",
       "      <th>CRIM</th>\n",
       "      <th>ZN</th>\n",
       "      <th>INDUS</th>\n",
       "      <th>CHAS</th>\n",
       "      <th>NOX</th>\n",
       "      <th>RM</th>\n",
       "      <th>AGE</th>\n",
       "      <th>DIS</th>\n",
       "      <th>RAD</th>\n",
       "      <th>TAX</th>\n",
       "      <th>PTRATIO</th>\n",
       "      <th>B</th>\n",
       "      <th>LSTAT</th>\n",
       "    </tr>\n",
       "  </thead>\n",
       "  <tbody>\n",
       "    <tr>\n",
       "      <th>count</th>\n",
       "      <td>506.000000</td>\n",
       "      <td>506.000000</td>\n",
       "      <td>506.000000</td>\n",
       "      <td>506.000000</td>\n",
       "      <td>506.000000</td>\n",
       "      <td>506.000000</td>\n",
       "      <td>506.000000</td>\n",
       "      <td>506.000000</td>\n",
       "      <td>506.000000</td>\n",
       "      <td>506.000000</td>\n",
       "      <td>506.000000</td>\n",
       "      <td>506.000000</td>\n",
       "      <td>506.000000</td>\n",
       "    </tr>\n",
       "    <tr>\n",
       "      <th>mean</th>\n",
       "      <td>3.613524</td>\n",
       "      <td>11.363636</td>\n",
       "      <td>11.136779</td>\n",
       "      <td>0.069170</td>\n",
       "      <td>0.554695</td>\n",
       "      <td>6.284634</td>\n",
       "      <td>68.574901</td>\n",
       "      <td>3.795043</td>\n",
       "      <td>9.549407</td>\n",
       "      <td>408.237154</td>\n",
       "      <td>18.455534</td>\n",
       "      <td>356.674032</td>\n",
       "      <td>12.653063</td>\n",
       "    </tr>\n",
       "    <tr>\n",
       "      <th>std</th>\n",
       "      <td>8.601545</td>\n",
       "      <td>23.322453</td>\n",
       "      <td>6.860353</td>\n",
       "      <td>0.253994</td>\n",
       "      <td>0.115878</td>\n",
       "      <td>0.702617</td>\n",
       "      <td>28.148861</td>\n",
       "      <td>2.105710</td>\n",
       "      <td>8.707259</td>\n",
       "      <td>168.537116</td>\n",
       "      <td>2.164946</td>\n",
       "      <td>91.294864</td>\n",
       "      <td>7.141062</td>\n",
       "    </tr>\n",
       "    <tr>\n",
       "      <th>min</th>\n",
       "      <td>0.006320</td>\n",
       "      <td>0.000000</td>\n",
       "      <td>0.460000</td>\n",
       "      <td>0.000000</td>\n",
       "      <td>0.385000</td>\n",
       "      <td>3.561000</td>\n",
       "      <td>2.900000</td>\n",
       "      <td>1.129600</td>\n",
       "      <td>1.000000</td>\n",
       "      <td>187.000000</td>\n",
       "      <td>12.600000</td>\n",
       "      <td>0.320000</td>\n",
       "      <td>1.730000</td>\n",
       "    </tr>\n",
       "    <tr>\n",
       "      <th>25%</th>\n",
       "      <td>0.082045</td>\n",
       "      <td>0.000000</td>\n",
       "      <td>5.190000</td>\n",
       "      <td>0.000000</td>\n",
       "      <td>0.449000</td>\n",
       "      <td>5.885500</td>\n",
       "      <td>45.025000</td>\n",
       "      <td>2.100175</td>\n",
       "      <td>4.000000</td>\n",
       "      <td>279.000000</td>\n",
       "      <td>17.400000</td>\n",
       "      <td>375.377500</td>\n",
       "      <td>6.950000</td>\n",
       "    </tr>\n",
       "    <tr>\n",
       "      <th>50%</th>\n",
       "      <td>0.256510</td>\n",
       "      <td>0.000000</td>\n",
       "      <td>9.690000</td>\n",
       "      <td>0.000000</td>\n",
       "      <td>0.538000</td>\n",
       "      <td>6.208500</td>\n",
       "      <td>77.500000</td>\n",
       "      <td>3.207450</td>\n",
       "      <td>5.000000</td>\n",
       "      <td>330.000000</td>\n",
       "      <td>19.050000</td>\n",
       "      <td>391.440000</td>\n",
       "      <td>11.360000</td>\n",
       "    </tr>\n",
       "    <tr>\n",
       "      <th>75%</th>\n",
       "      <td>3.677083</td>\n",
       "      <td>12.500000</td>\n",
       "      <td>18.100000</td>\n",
       "      <td>0.000000</td>\n",
       "      <td>0.624000</td>\n",
       "      <td>6.623500</td>\n",
       "      <td>94.075000</td>\n",
       "      <td>5.188425</td>\n",
       "      <td>24.000000</td>\n",
       "      <td>666.000000</td>\n",
       "      <td>20.200000</td>\n",
       "      <td>396.225000</td>\n",
       "      <td>16.955000</td>\n",
       "    </tr>\n",
       "    <tr>\n",
       "      <th>max</th>\n",
       "      <td>88.976200</td>\n",
       "      <td>100.000000</td>\n",
       "      <td>27.740000</td>\n",
       "      <td>1.000000</td>\n",
       "      <td>0.871000</td>\n",
       "      <td>8.780000</td>\n",
       "      <td>100.000000</td>\n",
       "      <td>12.126500</td>\n",
       "      <td>24.000000</td>\n",
       "      <td>711.000000</td>\n",
       "      <td>22.000000</td>\n",
       "      <td>396.900000</td>\n",
       "      <td>37.970000</td>\n",
       "    </tr>\n",
       "  </tbody>\n",
       "</table>\n",
       "</div>"
      ],
      "text/plain": [
       "             CRIM          ZN       INDUS        CHAS         NOX          RM  \\\n",
       "count  506.000000  506.000000  506.000000  506.000000  506.000000  506.000000   \n",
       "mean     3.613524   11.363636   11.136779    0.069170    0.554695    6.284634   \n",
       "std      8.601545   23.322453    6.860353    0.253994    0.115878    0.702617   \n",
       "min      0.006320    0.000000    0.460000    0.000000    0.385000    3.561000   \n",
       "25%      0.082045    0.000000    5.190000    0.000000    0.449000    5.885500   \n",
       "50%      0.256510    0.000000    9.690000    0.000000    0.538000    6.208500   \n",
       "75%      3.677083   12.500000   18.100000    0.000000    0.624000    6.623500   \n",
       "max     88.976200  100.000000   27.740000    1.000000    0.871000    8.780000   \n",
       "\n",
       "              AGE         DIS         RAD         TAX     PTRATIO           B  \\\n",
       "count  506.000000  506.000000  506.000000  506.000000  506.000000  506.000000   \n",
       "mean    68.574901    3.795043    9.549407  408.237154   18.455534  356.674032   \n",
       "std     28.148861    2.105710    8.707259  168.537116    2.164946   91.294864   \n",
       "min      2.900000    1.129600    1.000000  187.000000   12.600000    0.320000   \n",
       "25%     45.025000    2.100175    4.000000  279.000000   17.400000  375.377500   \n",
       "50%     77.500000    3.207450    5.000000  330.000000   19.050000  391.440000   \n",
       "75%     94.075000    5.188425   24.000000  666.000000   20.200000  396.225000   \n",
       "max    100.000000   12.126500   24.000000  711.000000   22.000000  396.900000   \n",
       "\n",
       "            LSTAT  \n",
       "count  506.000000  \n",
       "mean    12.653063  \n",
       "std      7.141062  \n",
       "min      1.730000  \n",
       "25%      6.950000  \n",
       "50%     11.360000  \n",
       "75%     16.955000  \n",
       "max     37.970000  "
      ]
     },
     "execution_count": 11,
     "metadata": {},
     "output_type": "execute_result"
    }
   ],
   "source": [
    "X_Boston.describe()"
   ]
  },
  {
   "cell_type": "code",
   "execution_count": 12,
   "metadata": {},
   "outputs": [
    {
     "data": {
      "text/plain": [
       "count    506.000000\n",
       "mean      22.532806\n",
       "std        9.197104\n",
       "min        5.000000\n",
       "25%       17.025000\n",
       "50%       21.200000\n",
       "75%       25.000000\n",
       "max       50.000000\n",
       "Name: MEDV, dtype: float64"
      ]
     },
     "execution_count": 12,
     "metadata": {},
     "output_type": "execute_result"
    }
   ],
   "source": [
    "y_Boston.describe()"
   ]
  },
  {
   "cell_type": "markdown",
   "metadata": {},
   "source": [
    "### 4. Feature Engineering"
   ]
  },
  {
   "cell_type": "markdown",
   "metadata": {},
   "source": [
    "#### a. Hist plots of each feature & corr plot"
   ]
  },
  {
   "cell_type": "code",
   "execution_count": 13,
   "metadata": {},
   "outputs": [],
   "source": [
    "BostonData = pd.concat([X_Boston,y_Boston],axis=1)"
   ]
  },
  {
   "cell_type": "code",
   "execution_count": 14,
   "metadata": {},
   "outputs": [
    {
     "data": {
      "text/plain": [
       "<matplotlib.axes._subplots.AxesSubplot at 0x7f2bbf40d790>"
      ]
     },
     "execution_count": 14,
     "metadata": {},
     "output_type": "execute_result"
    },
    {
     "data": {
      "image/png": "[encoded data removed]",
      "text/plain": [
       "<Figure size 864x576 with 2 Axes>"
      ]
     },
     "metadata": {
      "needs_background": "light"
     },
     "output_type": "display_data"
    }
   ],
   "source": [
    "plt.figure(figsize=(12,8))\n",
    "sns.heatmap(BostonData.corr(),annot=True)"
   ]
  },
  {
   "cell_type": "markdown",
   "metadata": {},
   "source": [
    "* Observation: \n",
    "    1. LSTAT,RM have very high correlation with the output variable, followed by PTRATIO, INDUS, TAX, NOX parameters. "
   ]
  },
  {
   "cell_type": "markdown",
   "metadata": {},
   "source": [
    "#### b. Viewing distributions of all features"
   ]
  },
  {
   "cell_type": "code",
   "execution_count": 15,
   "metadata": {},
   "outputs": [
    {
     "data": {
      "image/png": "[encoded data removed]",
      "text/plain": [
       "<Figure size 1008x720 with 16 Axes>"
      ]
     },
     "metadata": {
      "needs_background": "light"
     },
     "output_type": "display_data"
    }
   ],
   "source": [
    "BostonData.hist(grid=False,figsize=(14,10))\n",
    "plt.tight_layout()"
   ]
  },
  {
   "cell_type": "markdown",
   "metadata": {},
   "source": [
    "#### Summary: \n",
    "* At this point, it is definitely required to remove the binary category variable CHAS. \n",
    "* As for the rest of the features, we let them be and see how they emerge in the models. \n"
   ]
  },
  {
   "cell_type": "code",
   "execution_count": 16,
   "metadata": {},
   "outputs": [],
   "source": [
    "X_features = X_Boston.drop('CHAS',axis=1)"
   ]
  },
  {
   "cell_type": "code",
   "execution_count": 17,
   "metadata": {},
   "outputs": [
    {
     "data": {
      "text/plain": [
       "(506, 12)"
      ]
     },
     "execution_count": 17,
     "metadata": {},
     "output_type": "execute_result"
    }
   ],
   "source": [
    "X_features.shape"
   ]
  },
  {
   "cell_type": "markdown",
   "metadata": {},
   "source": [
    "### 5. Models"
   ]
  },
  {
   "cell_type": "markdown",
   "metadata": {},
   "source": [
    "Trying a couple of models (with the default settings)\n",
    "    1. Linear Regression\n",
    "    2. Ridge Regression \n",
    "    3. Lasso Regression \n",
    "    4. Random Forest Regression \n",
    "    5. Gradient Boost Regression \n",
    "    6. XG Boost Regression "
   ]
  },
  {
   "cell_type": "markdown",
   "metadata": {},
   "source": [
    "Steps: \n",
    "    1. Split data in train and test\n",
    "    2. Do 5 fold cross validation in the training data and get scores for various metrics. \n",
    "    3. Compare scores of various methods and evaluate. "
   ]
  },
  {
   "cell_type": "code",
   "execution_count": 18,
   "metadata": {},
   "outputs": [],
   "source": [
    "from sklearn.linear_model import LinearRegression,Ridge,Lasso\n",
    "from sklearn.ensemble import RandomForestRegressor,GradientBoostingRegressor\n",
    "from xgboost import XGBRegressor\n",
    "\n",
    "from sklearn.preprocessing import MinMaxScaler\n",
    "from sklearn.model_selection import train_test_split,cross_val_score,GridSearchCV\n",
    "from sklearn.pipeline import make_pipeline,Pipeline\n",
    "from sklearn.metrics import mean_absolute_error,mean_squared_error,r2_score"
   ]
  },
  {
   "cell_type": "code",
   "execution_count": 19,
   "metadata": {},
   "outputs": [],
   "source": [
    "X_train,X_test,y_train,y_test = train_test_split(X_Boston,y_Boston,test_size = 0.2,random_state = 0)"
   ]
  },
  {
   "cell_type": "code",
   "execution_count": 20,
   "metadata": {},
   "outputs": [],
   "source": [
    "trainscores_R2 = []\n",
    "trainscores_MAE = []\n",
    "trainscores_MSE = []\n",
    "trainscores_R2adj = []\n",
    "\n",
    "testscores_R2 = []\n",
    "testscores_MAE = []\n",
    "testscores_MSE = []\n",
    "testscores_R2adj = []\n",
    "\n",
    "scaler = MinMaxScaler()\n",
    "\n",
    "Models = [LinearRegression(),Ridge(),Lasso(),RandomForestRegressor(),GradientBoostingRegressor(),XGBRegressor()]\n",
    "\n",
    "for model in Models:\n",
    "    modelitn = model\n",
    "    modelwithpipeline = make_pipeline(scaler,modelitn)\n",
    "    modelwithpipeline.fit(X_train,y_train)\n",
    "    r2_train = cross_val_score(modelwithpipeline,X_train,y_train,cv=5,scoring='r2')\n",
    "    trainscores_R2.append(r2_train)\n",
    "    trainscores_MAE.append(cross_val_score(modelwithpipeline,X_train,y_train,cv=5,scoring='neg_mean_absolute_error'))\n",
    "    trainscores_MSE.append(cross_val_score(modelwithpipeline,X_train,y_train,cv=5,scoring='neg_mean_squared_error'))\n",
    "    \n",
    "    adjusted_r2_train = 1 - (1-r2_train)*(len(y_train)-1)/(len(y_train)-X_train.shape[1]-1)\n",
    "    trainscores_R2adj.append(adjusted_r2_train)\n",
    "    \n",
    "    r2_test = r2_score(y_test,modelwithpipeline.predict(X_test))\n",
    "    testscores_R2.append(r2_test)\n",
    "    testscores_MAE.append(mean_absolute_error(y_test,modelwithpipeline.predict(X_test)))\n",
    "    testscores_MSE.append(mean_squared_error(y_test,modelwithpipeline.predict(X_test)))\n",
    "\n",
    "    adjusted_r2_test = 1 - (1 - r2_test)*(len(y_test) - 1)/(len(y_test) - X_test.shape[1] - 1)\n",
    "    testscores_R2adj.append(adjusted_r2_test)\n",
    "    "
   ]
  },
  {
   "cell_type": "code",
   "execution_count": 43,
   "metadata": {},
   "outputs": [
    {
     "data": {
      "text/plain": [
       "([<matplotlib.axis.XTick at 0x7f2b7f79ebe0>,\n",
       "  <matplotlib.axis.XTick at 0x7f2b7f7b2040>,\n",
       "  <matplotlib.axis.XTick at 0x7f2b7f7b2b80>,\n",
       "  <matplotlib.axis.XTick at 0x7f2b7f759a00>,\n",
       "  <matplotlib.axis.XTick at 0x7f2b7f759f10>,\n",
       "  <matplotlib.axis.XTick at 0x7f2b7f761460>,\n",
       "  <matplotlib.axis.XTick at 0x7f2b7f761970>,\n",
       "  <matplotlib.axis.XTick at 0x7f2b7f761e80>],\n",
       " [Text(0, 0, '0'),\n",
       "  Text(0, 0, 'Linear'),\n",
       "  Text(0, 0, 'Ridge'),\n",
       "  Text(0, 0, 'Lasso'),\n",
       "  Text(0, 0, 'RF'),\n",
       "  Text(0, 0, 'GB'),\n",
       "  Text(0, 0, 'XGBoost')])"
      ]
     },
     "execution_count": 43,
     "metadata": {},
     "output_type": "execute_result"
    },
    {
     "data": {
      "image/png": "[encoded data removed]",
      "text/plain": [
       "<Figure size 864x576 with 4 Axes>"
      ]
     },
     "metadata": {
      "needs_background": "light"
     },
     "output_type": "display_data"
    }
   ],
   "source": [
    "names = [0, 'Linear','Ridge','Lasso','RF','GB','XGBoost']\n",
    "\n",
    "plt.figure(figsize=(12,8))\n",
    "\n",
    "plt.subplot(2,2,1)\n",
    "plt.title('R2')\n",
    "plt.plot(np.mean(trainscores_R2,axis=1),'ro')\n",
    "plt.plot(testscores_R2,'bo')\n",
    "locs, labels=plt.xticks()\n",
    "plt.xticks(locs,names)\n",
    "\n",
    "plt.subplot(2,2,2)\n",
    "plt.title('Adj R2')\n",
    "plt.plot(np.mean(trainscores_R2adj,axis=1),'ro')\n",
    "plt.plot(testscores_R2adj,'bo')\n",
    "locs, labels=plt.xticks()\n",
    "plt.xticks(locs,names)\n",
    "\n",
    "plt.subplot(2,2,3)\n",
    "plt.title('MAE')\n",
    "plt.plot(-np.mean(trainscores_MAE,axis=1),'ro')\n",
    "plt.plot(testscores_MAE,'bo')\n",
    "locs, labels=plt.xticks()\n",
    "plt.xticks(locs,names)\n",
    "\n",
    "plt.subplot(2,2,4)\n",
    "plt.title('MSE')\n",
    "plt.plot(-np.mean(trainscores_MSE,axis=1),'ro')\n",
    "plt.plot(testscores_MSE,'bo')\n",
    "locs, labels=plt.xticks()\n",
    "plt.xticks(locs,names)\n",
    "\n",
    "\n",
    "\n",
    "# https://stackoverflow.com/questions/56746148/how-to-change-xticks-with-matplotlib/56746205 Ref for x ticks "
   ]
  },
  {
   "cell_type": "markdown",
   "metadata": {},
   "source": [
    "### Some tuning to reduce overfitting: \n",
    "* We tune XGBoost to reduce overfitting in the model\n",
    "* XGBoost params: \n"
   ]
  },
  {
   "cell_type": "markdown",
   "metadata": {},
   "source": [
    "1. Early stopping : https://machinelearningmastery.com/avoid-overfitting-by-early-stopping-with-xgboost-in-python/\n",
    "https://stackoverflow.com/questions/50824326/xgboost-with-gridsearchcv-scaling-pca-and-early-stopping-in-sklearn-pipeline"
   ]
  },
  {
   "cell_type": "code",
   "execution_count": 63,
   "metadata": {},
   "outputs": [],
   "source": [
    "scaler2 = MinMaxScaler()\n",
    "X_train_scaled = scaler2.fit_transform(X_train)\n",
    "X_test_scaled = scaler2.transform(X_test)"
   ]
  },
  {
   "cell_type": "code",
   "execution_count": 64,
   "metadata": {},
   "outputs": [
    {
     "name": "stdout",
     "output_type": "stream",
     "text": [
      "[0]\tvalidation_0-rmse:17.15623\tvalidation_1-rmse:17.03628\n",
      "[1]\tvalidation_0-rmse:12.36946\tvalidation_1-rmse:12.65919\n",
      "[2]\tvalidation_0-rmse:9.01987\tvalidation_1-rmse:9.68325\n",
      "[3]\tvalidation_0-rmse:6.66054\tvalidation_1-rmse:7.58305\n",
      "[4]\tvalidation_0-rmse:4.94963\tvalidation_1-rmse:6.49571\n",
      "[5]\tvalidation_0-rmse:3.76091\tvalidation_1-rmse:5.79471\n",
      "[6]\tvalidation_0-rmse:2.91603\tvalidation_1-rmse:5.35296\n",
      "[7]\tvalidation_0-rmse:2.30274\tvalidation_1-rmse:5.12211\n",
      "[8]\tvalidation_0-rmse:1.88148\tvalidation_1-rmse:5.02319\n",
      "[9]\tvalidation_0-rmse:1.58293\tvalidation_1-rmse:4.88767\n",
      "[10]\tvalidation_0-rmse:1.38020\tvalidation_1-rmse:4.84380\n",
      "[11]\tvalidation_0-rmse:1.23143\tvalidation_1-rmse:4.79844\n",
      "[12]\tvalidation_0-rmse:1.13758\tvalidation_1-rmse:4.77369\n",
      "[13]\tvalidation_0-rmse:1.06650\tvalidation_1-rmse:4.77988\n",
      "[14]\tvalidation_0-rmse:0.99108\tvalidation_1-rmse:4.80349\n",
      "[15]\tvalidation_0-rmse:0.93963\tvalidation_1-rmse:4.77130\n",
      "[16]\tvalidation_0-rmse:0.86965\tvalidation_1-rmse:4.73090\n",
      "[17]\tvalidation_0-rmse:0.78041\tvalidation_1-rmse:4.70301\n",
      "[18]\tvalidation_0-rmse:0.73142\tvalidation_1-rmse:4.71433\n",
      "[19]\tvalidation_0-rmse:0.69871\tvalidation_1-rmse:4.70631\n",
      "[20]\tvalidation_0-rmse:0.65724\tvalidation_1-rmse:4.69576\n",
      "[21]\tvalidation_0-rmse:0.62716\tvalidation_1-rmse:4.68865\n",
      "[22]\tvalidation_0-rmse:0.59723\tvalidation_1-rmse:4.69262\n",
      "[23]\tvalidation_0-rmse:0.54486\tvalidation_1-rmse:4.67428\n",
      "[24]\tvalidation_0-rmse:0.53155\tvalidation_1-rmse:4.66018\n",
      "[25]\tvalidation_0-rmse:0.48358\tvalidation_1-rmse:4.65783\n",
      "[26]\tvalidation_0-rmse:0.47173\tvalidation_1-rmse:4.64346\n",
      "[27]\tvalidation_0-rmse:0.45718\tvalidation_1-rmse:4.64417\n",
      "[28]\tvalidation_0-rmse:0.44187\tvalidation_1-rmse:4.64117\n",
      "[29]\tvalidation_0-rmse:0.40912\tvalidation_1-rmse:4.64274\n",
      "[30]\tvalidation_0-rmse:0.39270\tvalidation_1-rmse:4.63849\n",
      "[31]\tvalidation_0-rmse:0.37127\tvalidation_1-rmse:4.63529\n",
      "[32]\tvalidation_0-rmse:0.36024\tvalidation_1-rmse:4.63429\n",
      "[33]\tvalidation_0-rmse:0.33221\tvalidation_1-rmse:4.63077\n",
      "[34]\tvalidation_0-rmse:0.29930\tvalidation_1-rmse:4.61797\n",
      "[35]\tvalidation_0-rmse:0.28552\tvalidation_1-rmse:4.61263\n",
      "[36]\tvalidation_0-rmse:0.26801\tvalidation_1-rmse:4.61457\n",
      "[37]\tvalidation_0-rmse:0.25784\tvalidation_1-rmse:4.61739\n",
      "[38]\tvalidation_0-rmse:0.24323\tvalidation_1-rmse:4.61231\n",
      "[39]\tvalidation_0-rmse:0.22079\tvalidation_1-rmse:4.60880\n",
      "[40]\tvalidation_0-rmse:0.21113\tvalidation_1-rmse:4.61209\n",
      "[41]\tvalidation_0-rmse:0.19620\tvalidation_1-rmse:4.61672\n",
      "[42]\tvalidation_0-rmse:0.17881\tvalidation_1-rmse:4.61895\n",
      "[43]\tvalidation_0-rmse:0.17384\tvalidation_1-rmse:4.61870\n",
      "[44]\tvalidation_0-rmse:0.17194\tvalidation_1-rmse:4.61895\n",
      "[45]\tvalidation_0-rmse:0.16152\tvalidation_1-rmse:4.62036\n",
      "[46]\tvalidation_0-rmse:0.15288\tvalidation_1-rmse:4.62197\n",
      "[47]\tvalidation_0-rmse:0.14783\tvalidation_1-rmse:4.62120\n",
      "[48]\tvalidation_0-rmse:0.13941\tvalidation_1-rmse:4.62258\n"
     ]
    },
    {
     "data": {
      "text/plain": [
       "XGBRegressor(base_score=0.5, booster='gbtree', colsample_bylevel=1,\n",
       "             colsample_bynode=1, colsample_bytree=1, gamma=0, gpu_id=-1,\n",
       "             importance_type='gain', interaction_constraints='',\n",
       "             learning_rate=0.300000012, max_delta_step=0, max_depth=6,\n",
       "             min_child_weight=1, missing=nan, monotone_constraints='()',\n",
       "             n_estimators=100, n_jobs=4, num_parallel_tree=1, random_state=0,\n",
       "             reg_alpha=0, reg_lambda=1, scale_pos_weight=1, subsample=1,\n",
       "             tree_method='exact', validate_parameters=1, verbosity=None)"
      ]
     },
     "execution_count": 64,
     "metadata": {},
     "output_type": "execute_result"
    }
   ],
   "source": [
    "XGBoostModel.fit(X_train_scaled,y_train,eval_set= [(X_train_scaled, y_train), (X_test_scaled, y_test)],early_stopping_rounds=10,verbose=True)"
   ]
  },
  {
   "cell_type": "code",
   "execution_count": 65,
   "metadata": {},
   "outputs": [
    {
     "name": "stdout",
     "output_type": "stream",
     "text": [
      "[0]\tvalidation_0-mae:15.62086\tvalidation_1-mae:15.36253\n",
      "[1]\tvalidation_0-mae:11.05669\tvalidation_1-mae:11.00934\n",
      "[2]\tvalidation_0-mae:7.83575\tvalidation_1-mae:7.92261\n",
      "[3]\tvalidation_0-mae:5.59376\tvalidation_1-mae:5.81664\n",
      "[4]\tvalidation_0-mae:4.02341\tvalidation_1-mae:4.57432\n",
      "[5]\tvalidation_0-mae:2.93190\tvalidation_1-mae:3.72137\n",
      "[6]\tvalidation_0-mae:2.18457\tvalidation_1-mae:3.21258\n",
      "[7]\tvalidation_0-mae:1.67927\tvalidation_1-mae:2.98528\n",
      "[8]\tvalidation_0-mae:1.35669\tvalidation_1-mae:2.91637\n",
      "[9]\tvalidation_0-mae:1.14251\tvalidation_1-mae:2.83951\n",
      "[10]\tvalidation_0-mae:0.99177\tvalidation_1-mae:2.83344\n",
      "[11]\tvalidation_0-mae:0.89326\tvalidation_1-mae:2.82468\n",
      "[12]\tvalidation_0-mae:0.83235\tvalidation_1-mae:2.82760\n",
      "[13]\tvalidation_0-mae:0.78509\tvalidation_1-mae:2.83477\n",
      "[14]\tvalidation_0-mae:0.72913\tvalidation_1-mae:2.82301\n",
      "[15]\tvalidation_0-mae:0.68817\tvalidation_1-mae:2.81998\n",
      "[16]\tvalidation_0-mae:0.63879\tvalidation_1-mae:2.82307\n",
      "[17]\tvalidation_0-mae:0.57153\tvalidation_1-mae:2.82820\n",
      "[18]\tvalidation_0-mae:0.53479\tvalidation_1-mae:2.82815\n",
      "[19]\tvalidation_0-mae:0.50801\tvalidation_1-mae:2.82647\n",
      "[20]\tvalidation_0-mae:0.48366\tvalidation_1-mae:2.82159\n",
      "[21]\tvalidation_0-mae:0.45982\tvalidation_1-mae:2.81785\n",
      "[22]\tvalidation_0-mae:0.44095\tvalidation_1-mae:2.82843\n",
      "[23]\tvalidation_0-mae:0.40165\tvalidation_1-mae:2.83017\n",
      "[24]\tvalidation_0-mae:0.39133\tvalidation_1-mae:2.83132\n",
      "[25]\tvalidation_0-mae:0.35546\tvalidation_1-mae:2.82615\n",
      "[26]\tvalidation_0-mae:0.34552\tvalidation_1-mae:2.81866\n",
      "[27]\tvalidation_0-mae:0.33465\tvalidation_1-mae:2.81922\n",
      "[28]\tvalidation_0-mae:0.31980\tvalidation_1-mae:2.81791\n",
      "[29]\tvalidation_0-mae:0.29849\tvalidation_1-mae:2.81968\n",
      "[30]\tvalidation_0-mae:0.28556\tvalidation_1-mae:2.81020\n",
      "[31]\tvalidation_0-mae:0.27019\tvalidation_1-mae:2.81459\n",
      "[32]\tvalidation_0-mae:0.26177\tvalidation_1-mae:2.81520\n",
      "[33]\tvalidation_0-mae:0.24017\tvalidation_1-mae:2.80621\n",
      "[34]\tvalidation_0-mae:0.21733\tvalidation_1-mae:2.79990\n",
      "[35]\tvalidation_0-mae:0.20692\tvalidation_1-mae:2.80230\n",
      "[36]\tvalidation_0-mae:0.19368\tvalidation_1-mae:2.80109\n",
      "[37]\tvalidation_0-mae:0.18536\tvalidation_1-mae:2.80648\n",
      "[38]\tvalidation_0-mae:0.17408\tvalidation_1-mae:2.79989\n",
      "[39]\tvalidation_0-mae:0.15829\tvalidation_1-mae:2.79925\n",
      "[40]\tvalidation_0-mae:0.15121\tvalidation_1-mae:2.79915\n",
      "[41]\tvalidation_0-mae:0.14236\tvalidation_1-mae:2.79912\n",
      "[42]\tvalidation_0-mae:0.12958\tvalidation_1-mae:2.80135\n",
      "[43]\tvalidation_0-mae:0.12550\tvalidation_1-mae:2.80057\n",
      "[44]\tvalidation_0-mae:0.12350\tvalidation_1-mae:2.80033\n",
      "[45]\tvalidation_0-mae:0.11629\tvalidation_1-mae:2.80070\n",
      "[46]\tvalidation_0-mae:0.11023\tvalidation_1-mae:2.80096\n",
      "[47]\tvalidation_0-mae:0.10628\tvalidation_1-mae:2.80057\n",
      "[48]\tvalidation_0-mae:0.10052\tvalidation_1-mae:2.80352\n",
      "[49]\tvalidation_0-mae:0.09520\tvalidation_1-mae:2.80424\n",
      "[50]\tvalidation_0-mae:0.08990\tvalidation_1-mae:2.80348\n"
     ]
    },
    {
     "data": {
      "text/plain": [
       "XGBRegressor(base_score=0.5, booster='gbtree', colsample_bylevel=1,\n",
       "             colsample_bynode=1, colsample_bytree=1, gamma=0, gpu_id=-1,\n",
       "             importance_type='gain', interaction_constraints='',\n",
       "             learning_rate=0.300000012, max_delta_step=0, max_depth=6,\n",
       "             min_child_weight=1, missing=nan, monotone_constraints='()',\n",
       "             n_estimators=100, n_jobs=4, num_parallel_tree=1, random_state=0,\n",
       "             reg_alpha=0, reg_lambda=1, scale_pos_weight=1, subsample=1,\n",
       "             tree_method='exact', validate_parameters=1, verbosity=None)"
      ]
     },
     "execution_count": 65,
     "metadata": {},
     "output_type": "execute_result"
    }
   ],
   "source": [
    "XGBoostModel.fit(X_train_scaled,y_train,eval_set= [(X_train_scaled, y_train), (X_test_scaled, y_test)],early_stopping_rounds=10,verbose=True,eval_metric='mae')"
   ]
  },
  {
   "cell_type": "code",
   "execution_count": 75,
   "metadata": {},
   "outputs": [
    {
     "data": {
      "text/plain": [
       "[<matplotlib.lines.Line2D at 0x7f2b7e4470d0>]"
      ]
     },
     "execution_count": 75,
     "metadata": {},
     "output_type": "execute_result"
    },
    {
     "data": {
      "image/png": "[encoded data removed]",
      "text/plain": [
       "<Figure size 432x288 with 1 Axes>"
      ]
     },
     "metadata": {
      "needs_background": "light"
     },
     "output_type": "display_data"
    }
   ],
   "source": [
    "### Plot history\n",
    "plt.plot(XGBoostModel.evals_result_['validation_0']['mae'],'b')\n",
    "plt.plot(XGBoostModel.evals_result_['validation_1']['mae'],'r')"
   ]
  },
  {
   "cell_type": "code",
   "execution_count": 66,
   "metadata": {},
   "outputs": [
    {
     "name": "stdout",
     "output_type": "stream",
     "text": [
      "[0]\tvalidation_0-mae:15.62086\tvalidation_1-mae:15.36254\n",
      "[1]\tvalidation_0-mae:11.05669\tvalidation_1-mae:11.00934\n",
      "[2]\tvalidation_0-mae:7.83575\tvalidation_1-mae:7.92261\n",
      "[3]\tvalidation_0-mae:5.59376\tvalidation_1-mae:5.81664\n",
      "[4]\tvalidation_0-mae:4.02341\tvalidation_1-mae:4.57432\n",
      "[5]\tvalidation_0-mae:2.93190\tvalidation_1-mae:3.72137\n",
      "[6]\tvalidation_0-mae:2.18457\tvalidation_1-mae:3.21258\n",
      "[7]\tvalidation_0-mae:1.67927\tvalidation_1-mae:2.98528\n",
      "[8]\tvalidation_0-mae:1.35669\tvalidation_1-mae:2.91637\n",
      "[9]\tvalidation_0-mae:1.14251\tvalidation_1-mae:2.83951\n",
      "[10]\tvalidation_0-mae:0.99177\tvalidation_1-mae:2.83344\n",
      "[11]\tvalidation_0-mae:0.89326\tvalidation_1-mae:2.82468\n",
      "[12]\tvalidation_0-mae:0.83235\tvalidation_1-mae:2.82760\n",
      "[13]\tvalidation_0-mae:0.78509\tvalidation_1-mae:2.83477\n",
      "[14]\tvalidation_0-mae:0.72913\tvalidation_1-mae:2.82301\n",
      "[15]\tvalidation_0-mae:0.68817\tvalidation_1-mae:2.81998\n",
      "[16]\tvalidation_0-mae:0.63879\tvalidation_1-mae:2.82307\n",
      "[17]\tvalidation_0-mae:0.57153\tvalidation_1-mae:2.82820\n",
      "[18]\tvalidation_0-mae:0.53479\tvalidation_1-mae:2.82815\n",
      "[19]\tvalidation_0-mae:0.50801\tvalidation_1-mae:2.82647\n",
      "[20]\tvalidation_0-mae:0.48366\tvalidation_1-mae:2.82159\n",
      "[21]\tvalidation_0-mae:0.45982\tvalidation_1-mae:2.81785\n",
      "[22]\tvalidation_0-mae:0.44095\tvalidation_1-mae:2.82843\n",
      "[23]\tvalidation_0-mae:0.40165\tvalidation_1-mae:2.83017\n",
      "[24]\tvalidation_0-mae:0.39133\tvalidation_1-mae:2.83132\n",
      "[25]\tvalidation_0-mae:0.35546\tvalidation_1-mae:2.82615\n",
      "[26]\tvalidation_0-mae:0.34552\tvalidation_1-mae:2.81866\n",
      "[27]\tvalidation_0-mae:0.33465\tvalidation_1-mae:2.81922\n",
      "[28]\tvalidation_0-mae:0.31980\tvalidation_1-mae:2.81791\n",
      "[29]\tvalidation_0-mae:0.29849\tvalidation_1-mae:2.81968\n",
      "[30]\tvalidation_0-mae:0.28556\tvalidation_1-mae:2.81020\n",
      "[31]\tvalidation_0-mae:0.27019\tvalidation_1-mae:2.81459\n",
      "[32]\tvalidation_0-mae:0.26177\tvalidation_1-mae:2.81520\n",
      "[33]\tvalidation_0-mae:0.24017\tvalidation_1-mae:2.80621\n",
      "[34]\tvalidation_0-mae:0.21733\tvalidation_1-mae:2.79990\n",
      "[35]\tvalidation_0-mae:0.20692\tvalidation_1-mae:2.80230\n",
      "[36]\tvalidation_0-mae:0.19368\tvalidation_1-mae:2.80109\n",
      "[37]\tvalidation_0-mae:0.18536\tvalidation_1-mae:2.80648\n",
      "[38]\tvalidation_0-mae:0.17408\tvalidation_1-mae:2.79989\n",
      "[39]\tvalidation_0-mae:0.15829\tvalidation_1-mae:2.79925\n",
      "[40]\tvalidation_0-mae:0.15121\tvalidation_1-mae:2.79915\n",
      "[41]\tvalidation_0-mae:0.14236\tvalidation_1-mae:2.79912\n",
      "[42]\tvalidation_0-mae:0.12958\tvalidation_1-mae:2.80135\n",
      "[43]\tvalidation_0-mae:0.12550\tvalidation_1-mae:2.80057\n",
      "[44]\tvalidation_0-mae:0.12350\tvalidation_1-mae:2.80033\n",
      "[45]\tvalidation_0-mae:0.11629\tvalidation_1-mae:2.80070\n",
      "[46]\tvalidation_0-mae:0.11023\tvalidation_1-mae:2.80096\n",
      "[47]\tvalidation_0-mae:0.10628\tvalidation_1-mae:2.80057\n",
      "[48]\tvalidation_0-mae:0.10052\tvalidation_1-mae:2.80352\n",
      "[49]\tvalidation_0-mae:0.09520\tvalidation_1-mae:2.80424\n",
      "[50]\tvalidation_0-mae:0.08990\tvalidation_1-mae:2.80348\n",
      "[51]\tvalidation_0-mae:0.08649\tvalidation_1-mae:2.80153\n",
      "[52]\tvalidation_0-mae:0.08306\tvalidation_1-mae:2.80059\n",
      "[53]\tvalidation_0-mae:0.07817\tvalidation_1-mae:2.79901\n",
      "[54]\tvalidation_0-mae:0.07424\tvalidation_1-mae:2.80003\n",
      "[55]\tvalidation_0-mae:0.07123\tvalidation_1-mae:2.79958\n",
      "[56]\tvalidation_0-mae:0.06890\tvalidation_1-mae:2.80017\n",
      "[57]\tvalidation_0-mae:0.06689\tvalidation_1-mae:2.80043\n",
      "[58]\tvalidation_0-mae:0.06356\tvalidation_1-mae:2.80091\n",
      "[59]\tvalidation_0-mae:0.06074\tvalidation_1-mae:2.80043\n",
      "[60]\tvalidation_0-mae:0.05852\tvalidation_1-mae:2.79954\n",
      "[61]\tvalidation_0-mae:0.05471\tvalidation_1-mae:2.79792\n",
      "[62]\tvalidation_0-mae:0.05215\tvalidation_1-mae:2.79806\n",
      "[63]\tvalidation_0-mae:0.04750\tvalidation_1-mae:2.79873\n",
      "[64]\tvalidation_0-mae:0.04451\tvalidation_1-mae:2.79860\n",
      "[65]\tvalidation_0-mae:0.04332\tvalidation_1-mae:2.79908\n",
      "[66]\tvalidation_0-mae:0.04218\tvalidation_1-mae:2.79854\n",
      "[67]\tvalidation_0-mae:0.04028\tvalidation_1-mae:2.79720\n",
      "[68]\tvalidation_0-mae:0.03918\tvalidation_1-mae:2.79684\n",
      "[69]\tvalidation_0-mae:0.03673\tvalidation_1-mae:2.79893\n",
      "[70]\tvalidation_0-mae:0.03471\tvalidation_1-mae:2.79829\n",
      "[71]\tvalidation_0-mae:0.03388\tvalidation_1-mae:2.79780\n",
      "[72]\tvalidation_0-mae:0.03299\tvalidation_1-mae:2.79777\n",
      "[73]\tvalidation_0-mae:0.03154\tvalidation_1-mae:2.79711\n",
      "[74]\tvalidation_0-mae:0.03057\tvalidation_1-mae:2.79751\n",
      "[75]\tvalidation_0-mae:0.02946\tvalidation_1-mae:2.79775\n",
      "[76]\tvalidation_0-mae:0.02870\tvalidation_1-mae:2.79756\n",
      "[77]\tvalidation_0-mae:0.02705\tvalidation_1-mae:2.79739\n",
      "[78]\tvalidation_0-mae:0.02505\tvalidation_1-mae:2.79665\n",
      "[79]\tvalidation_0-mae:0.02463\tvalidation_1-mae:2.79657\n",
      "[80]\tvalidation_0-mae:0.02427\tvalidation_1-mae:2.79659\n",
      "[81]\tvalidation_0-mae:0.02312\tvalidation_1-mae:2.79654\n",
      "[82]\tvalidation_0-mae:0.02175\tvalidation_1-mae:2.79665\n",
      "[83]\tvalidation_0-mae:0.02121\tvalidation_1-mae:2.79642\n",
      "[84]\tvalidation_0-mae:0.02057\tvalidation_1-mae:2.79657\n",
      "[85]\tvalidation_0-mae:0.01976\tvalidation_1-mae:2.79643\n",
      "[86]\tvalidation_0-mae:0.01906\tvalidation_1-mae:2.79657\n",
      "[87]\tvalidation_0-mae:0.01854\tvalidation_1-mae:2.79641\n",
      "[88]\tvalidation_0-mae:0.01805\tvalidation_1-mae:2.79666\n",
      "[89]\tvalidation_0-mae:0.01770\tvalidation_1-mae:2.79662\n",
      "[90]\tvalidation_0-mae:0.01734\tvalidation_1-mae:2.79632\n",
      "[91]\tvalidation_0-mae:0.01678\tvalidation_1-mae:2.79643\n",
      "[92]\tvalidation_0-mae:0.01592\tvalidation_1-mae:2.79618\n",
      "[93]\tvalidation_0-mae:0.01514\tvalidation_1-mae:2.79625\n",
      "[94]\tvalidation_0-mae:0.01475\tvalidation_1-mae:2.79631\n",
      "[95]\tvalidation_0-mae:0.01430\tvalidation_1-mae:2.79651\n",
      "[96]\tvalidation_0-mae:0.01388\tvalidation_1-mae:2.79633\n",
      "[97]\tvalidation_0-mae:0.01352\tvalidation_1-mae:2.79636\n",
      "[98]\tvalidation_0-mae:0.01320\tvalidation_1-mae:2.79635\n",
      "[99]\tvalidation_0-mae:0.01223\tvalidation_1-mae:2.79618\n"
     ]
    },
    {
     "data": {
      "text/plain": [
       "XGBRegressor(base_score=0.5, booster='gbtree', colsample_bylevel=1,\n",
       "             colsample_bynode=1, colsample_bytree=1, gamma=0, gpu_id=-1,\n",
       "             importance_type='gain', interaction_constraints='',\n",
       "             learning_rate=0.300000012, max_delta_step=0, max_depth=6,\n",
       "             min_child_weight=1, missing=nan, monotone_constraints='()',\n",
       "             n_estimators=100, n_jobs=4, num_parallel_tree=1, random_state=0,\n",
       "             reg_alpha=0, reg_lambda=1, scale_pos_weight=1, subsample=1,\n",
       "             tree_method='exact', validate_parameters=1, verbosity=None)"
      ]
     },
     "execution_count": 66,
     "metadata": {},
     "output_type": "execute_result"
    }
   ],
   "source": [
    "XGBoostModel.fit(X_train_scaled,y_train,eval_set= [(X_train_scaled, y_train), (X_test_scaled, y_test)],verbose=True,eval_metric='mae')"
   ]
  },
  {
   "cell_type": "code",
   "execution_count": 53,
   "metadata": {},
   "outputs": [
    {
     "data": {
      "text/plain": [
       "{'validation_0': OrderedDict([('rmse',\n",
       "               [17.036282,\n",
       "                12.659192,\n",
       "                9.683251,\n",
       "                7.583051,\n",
       "                6.495708,\n",
       "                5.794709,\n",
       "                5.352956,\n",
       "                5.122114,\n",
       "                5.023192,\n",
       "                4.887668,\n",
       "                4.8438,\n",
       "                4.798436,\n",
       "                4.773688,\n",
       "                4.779878,\n",
       "                4.803486,\n",
       "                4.7713,\n",
       "                4.730902,\n",
       "                4.703005,\n",
       "                4.714326,\n",
       "                4.706312,\n",
       "                4.695761,\n",
       "                4.688648,\n",
       "                4.692622,\n",
       "                4.674279,\n",
       "                4.660182,\n",
       "                4.657827,\n",
       "                4.64346,\n",
       "                4.644168,\n",
       "                4.641174,\n",
       "                4.642736,\n",
       "                4.638487,\n",
       "                4.635288,\n",
       "                4.634288,\n",
       "                4.630773,\n",
       "                4.617969,\n",
       "                4.612625,\n",
       "                4.614572,\n",
       "                4.617394,\n",
       "                4.612307,\n",
       "                4.608798,\n",
       "                4.612086,\n",
       "                4.616721,\n",
       "                4.618952,\n",
       "                4.618696,\n",
       "                4.618952,\n",
       "                4.620365,\n",
       "                4.621974,\n",
       "                4.6212,\n",
       "                4.622579,\n",
       "                4.622929])])}"
      ]
     },
     "execution_count": 53,
     "metadata": {},
     "output_type": "execute_result"
    }
   ],
   "source": [
    "names = [0, 'Linear','Ridge','Lasso','RF','GB','XGBoost']\n",
    "\n",
    "plt.figure(figsize=(12,8))\n",
    "\n",
    "plt.subplot(2,3,1)\n",
    "plt.title('R2')\n",
    "plt.plot(np.mean(trainscores_R2,axis=1),'ro')\n",
    "plt.plot(testscores_R2,'bo')\n",
    "locs, labels=plt.xticks()\n",
    "plt.xticks(locs,names)\n",
    "\n",
    "plt.subplot(2,3,2)\n",
    "plt.title('Adj R2')\n",
    "plt.plot(np.mean(trainscores_R2adj,axis=1),'ro')\n",
    "plt.plot(testscores_R2adj,'bo')\n",
    "locs, labels=plt.xticks()\n",
    "plt.xticks(locs,names)\n",
    "\n",
    "plt.subplot(2,3,3)\n",
    "plt.title('MAE')\n",
    "plt.plot(-np.mean(trainscores_MAE,axis=1),'ro')\n",
    "plt.plot(testscores_MAE,'bo')\n",
    "locs, labels=plt.xticks()\n",
    "plt.xticks(locs,names)\n",
    "\n",
    "plt.subplot(2,3,4)\n",
    "plt.title('MSE')\n",
    "plt.plot(-np.mean(trainscores_MSE,axis=1),'ro')\n",
    "plt.plot(testscores_MSE,'bo')\n",
    "locs, labels=plt.xticks()\n",
    "plt.xticks(locs,names)\n",
    "\n",
    "plt.subplot(2,3,5)\n",
    "plt.title('RMSE Early Stopping')\n",
    "plt.plot(-np.mean(trainscores_MSE,axis=1),'ro')\n",
    "plt.plot(testscores_MSE,'bo')\n",
    "locs, labels=plt.xticks()\n",
    "plt.xticks(locs,names)\n",
    "\n",
    "\n",
    "\n",
    "# https://stackoverflow.com/questions/56746148/how-to-change-xticks-with-matplotlib/56746205 Ref for x ticks "
   ]
  },
  {
   "cell_type": "code",
   "execution_count": 51,
   "metadata": {},
   "outputs": [
    {
     "data": {
      "text/plain": [
       "(404, 13)"
      ]
     },
     "execution_count": 51,
     "metadata": {},
     "output_type": "execute_result"
    }
   ],
   "source": [
    "X_train.shape #stopping round should be correlated to the size of training dataset "
   ]
  },
  {
   "cell_type": "markdown",
   "metadata": {},
   "source": [
    "* Todo: \n",
    "    1. Check other notebooks to see if best score is around what we got. : WIP:\n",
    "      a. Scoring metrics used: \n",
    "          i. MSE : 10 : https://gogul.dev/software/regression-example-boston-housing-prices\n",
    "          ii. SVR & GradientBoostingRegressor: -11.62 (+/- 5.91) and -12.39 (+/- 5.86) MSE. https://www.kaggle.com/prasadperera/the-boston-housing-dataset\n",
    "          iii. RF: 0.86 R^2 https://www.kaggle.com/shreayan98c/boston-house-price-prediction 30% test split and specific random_state value\n",
    "    2. If not, figure hyperparameter tuning\n",
    "    3. Get a sense of the model. Output vs predict. \n",
    "    4. Regression metrics :\n",
    "        i. R2\n",
    "        ii. MSE\n",
    "        iii. negative MSE \n",
    "        iv. MAE:\n",
    "        v: Adjusted R2\n",
    "    5. Put model eval metrics comparison on a table \n",
    "    6. Clean up and make it more readable "
   ]
  },
  {
   "cell_type": "code",
   "execution_count": 164,
   "metadata": {},
   "outputs": [
    {
     "data": {
      "text/plain": [
       "count    506.000000\n",
       "mean      22.532806\n",
       "std        9.197104\n",
       "min        5.000000\n",
       "25%       17.025000\n",
       "50%       21.200000\n",
       "75%       25.000000\n",
       "max       50.000000\n",
       "Name: MEDV, dtype: float64"
      ]
     },
     "execution_count": 164,
     "metadata": {},
     "output_type": "execute_result"
    }
   ],
   "source": [
    "y_Boston.describe()"
   ]
  },
  {
   "cell_type": "code",
   "execution_count": null,
   "metadata": {},
   "outputs": [],
   "source": []
  }
 ],
 "metadata": {
  "kernelspec": {
   "display_name": "Python 3",
   "language": "python",
   "name": "python3"
  },
  "language_info": {
   "codemirror_mode": {
    "name": "ipython",
    "version": 3
   },
   "file_extension": ".py",
   "mimetype": "text/x-python",
   "name": "python",
   "nbconvert_exporter": "python",
   "pygments_lexer": "ipython3",
   "version": "3.8.3"
  }
 },
 "nbformat": 4,
 "nbformat_minor": 4
}
