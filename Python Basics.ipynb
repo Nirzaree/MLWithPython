{
 "cells": [
  {
   "cell_type": "markdown",
   "metadata": {},
   "source": [
    "What is Python?  \n",
    "Python is an Interpreted, Object-oriented, High level programming language\n",
    "\n",
    "Why is Python popular in Machine Learning? \n",
    "* Easy to understand\n",
    "* Library ecosystem\n",
    "* Low Entry Barrier\n",
    "* Flexible ..."
   ]
  },
  {
   "cell_type": "markdown",
   "metadata": {},
   "source": [
    "Assignment : https://machinelearningmastery.com/crash-course-python-machine-learning-developers/"
   ]
  },
  {
   "cell_type": "code",
   "execution_count": 4,
   "metadata": {},
   "outputs": [
    {
     "name": "stdout",
     "output_type": "stream",
     "text": [
      "Hello Python\n",
      "H\n",
      "12\n"
     ]
    }
   ],
   "source": [
    "# Strings: \n",
    "StringData = \"Hello Python\"\n",
    "\n",
    "print(StringData)\n",
    "print(StringData[0])\n",
    "print(len(StringData))"
   ]
  },
  {
   "cell_type": "code",
   "execution_count": 5,
   "metadata": {},
   "outputs": [
    {
     "name": "stdout",
     "output_type": "stream",
     "text": [
      "1123\n",
      "45.2\n"
     ]
    }
   ],
   "source": [
    "# Numbers:\n",
    "numericData = 1123\n",
    "print(numericData)\n",
    "\n",
    "numericData = 45.2\n",
    "print(numericData)\n"
   ]
  },
  {
   "cell_type": "code",
   "execution_count": 7,
   "metadata": {},
   "outputs": [
    {
     "name": "stdout",
     "output_type": "stream",
     "text": [
      "True False\n"
     ]
    }
   ],
   "source": [
    "#Boolean \n",
    "boolData1 = True\n",
    "boolData2 = False\n",
    "print(boolData1,boolData2)"
   ]
  },
  {
   "cell_type": "code",
   "execution_count": 9,
   "metadata": {},
   "outputs": [
    {
     "name": "stdout",
     "output_type": "stream",
     "text": [
      "1 2 3\n",
      "6 a 45.3\n"
     ]
    }
   ],
   "source": [
    "#Multiple assignments \n",
    "\n",
    "a,b,c = 1,2,3\n",
    "print(a,b,c)\n",
    "\n",
    "d,e,f = 6,\"a\",45.3\n",
    "print(d,e,f)"
   ]
  },
  {
   "cell_type": "code",
   "execution_count": 10,
   "metadata": {},
   "outputs": [
    {
     "name": "stdout",
     "output_type": "stream",
     "text": [
      "None\n"
     ]
    }
   ],
   "source": [
    "#No value\n",
    "a = None\n",
    "print(a)"
   ]
  },
  {
   "cell_type": "markdown",
   "metadata": {},
   "source": [
    "Flow Control:\n",
    "    1. If then else\n",
    "    2. For loop\n",
    "    3. While loop"
   ]
  },
  {
   "cell_type": "code",
   "execution_count": 13,
   "metadata": {},
   "outputs": [
    {
     "name": "stdout",
     "output_type": "stream",
     "text": [
      "that is fast\n"
     ]
    }
   ],
   "source": [
    "#if-then-else\n",
    "value = 99\n",
    "if value > 90:\n",
    "    print(\"that is fast\")\n",
    "elif value > 200:\n",
    "    print(\"too fast\")\n",
    "else:\n",
    "    print(\"that is safe\")"
   ]
  },
  {
   "cell_type": "code",
   "execution_count": 14,
   "metadata": {},
   "outputs": [
    {
     "name": "stdout",
     "output_type": "stream",
     "text": [
      "0\n",
      "1\n",
      "2\n",
      "3\n",
      "4\n",
      "5\n",
      "6\n",
      "7\n",
      "8\n",
      "9\n"
     ]
    }
   ],
   "source": [
    "#for loop\n",
    "for var in range(10):\n",
    "    print(var)"
   ]
  },
  {
   "cell_type": "code",
   "execution_count": 17,
   "metadata": {},
   "outputs": [
    {
     "name": "stdout",
     "output_type": "stream",
     "text": [
      "0\n",
      "1\n",
      "2\n",
      "3\n",
      "4\n",
      "5\n",
      "6\n",
      "7\n",
      "8\n",
      "9\n"
     ]
    }
   ],
   "source": [
    "#while loop\n",
    "var = 0;\n",
    "while var < 10:\n",
    "    print(var)\n",
    "    var += 1"
   ]
  },
  {
   "cell_type": "markdown",
   "metadata": {},
   "source": [
    "Data Structures: \n",
    "Most useful data structures:\n",
    "1. Tuples\n",
    "2. Lists\n",
    "3. Dictionaries"
   ]
  },
  {
   "cell_type": "code",
   "execution_count": 27,
   "metadata": {},
   "outputs": [
    {
     "name": "stdout",
     "output_type": "stream",
     "text": [
      "(1, 2, 3)\n",
      "(1, 'python', 2, 'tuple')\n",
      "(1,)\n",
      "('python', 2)\n"
     ]
    },
    {
     "ename": "TypeError",
     "evalue": "'tuple' object does not support item assignment",
     "output_type": "error",
     "traceback": [
      "\u001b[0;31m---------------------------------------------------------------------------\u001b[0m",
      "\u001b[0;31mTypeError\u001b[0m                                 Traceback (most recent call last)",
      "\u001b[0;32m<ipython-input-27-1dc12ae5c1b9>\u001b[0m in \u001b[0;36m<module>\u001b[0;34m\u001b[0m\n\u001b[1;32m      9\u001b[0m \u001b[0mprint\u001b[0m\u001b[0;34m(\u001b[0m\u001b[0mb\u001b[0m\u001b[0;34m[\u001b[0m\u001b[0;36m1\u001b[0m\u001b[0;34m:\u001b[0m\u001b[0;36m3\u001b[0m\u001b[0;34m]\u001b[0m\u001b[0;34m)\u001b[0m\u001b[0;34m\u001b[0m\u001b[0;34m\u001b[0m\u001b[0m\n\u001b[1;32m     10\u001b[0m \u001b[0;34m\u001b[0m\u001b[0m\n\u001b[0;32m---> 11\u001b[0;31m \u001b[0mb\u001b[0m\u001b[0;34m[\u001b[0m\u001b[0;36m0\u001b[0m\u001b[0;34m]\u001b[0m \u001b[0;34m=\u001b[0m \u001b[0;36m4\u001b[0m\u001b[0;34m\u001b[0m\u001b[0;34m\u001b[0m\u001b[0m\n\u001b[0m",
      "\u001b[0;31mTypeError\u001b[0m: 'tuple' object does not support item assignment"
     ]
    }
   ],
   "source": [
    "#Tuples: Read only collection of items \n",
    "a = (1,2,3)\n",
    "print(a)\n",
    "\n",
    "b = (1,'python',2,'tuple')\n",
    "print(b)\n",
    "\n",
    "print(b[0:1])\n",
    "print(b[1:3])\n",
    "\n",
    "b[0] = 4"
   ]
  },
  {
   "cell_type": "code",
   "execution_count": 35,
   "metadata": {},
   "outputs": [
    {
     "name": "stdout",
     "output_type": "stream",
     "text": [
      "Zeroth index item: 1\n",
      "Length of list: 4\n",
      "1\n",
      "2\n",
      "3\n",
      "4\n"
     ]
    }
   ],
   "source": [
    "#Lists: Changeable collection of items. Uses square bracket notation. \n",
    "myList1 = [1,2,3]\n",
    "print(\"Zeroth index item: %d\" % myList1[0])\n",
    "\n",
    "#Append to list\n",
    "myList1.append(4)\n",
    "\n",
    "#Length of list\n",
    "print(\"Length of list: %d\" % len(myList1))\n",
    "\n",
    "#Print items\n",
    "for items in myList1:\n",
    "    print(items)\n",
    "\n"
   ]
  },
  {
   "cell_type": "code",
   "execution_count": 44,
   "metadata": {},
   "outputs": [
    {
     "name": "stdout",
     "output_type": "stream",
     "text": [
      "{'a': 1, 'b': 'python', 'c': 3}\n",
      "Value stored in a : 1\n",
      "Value stored in a : 12\n",
      "All keys in the dictionary: dict_keys(['a', 'b', 'c'])\n",
      "All values in the dictionary: dict_values([12, 'python', 3])\n",
      "a\n",
      "b\n",
      "c\n"
     ]
    }
   ],
   "source": [
    "#Dictionaries: Collection which is unordered, changeable, and indexed. Curly bracket notation\n",
    "myDictionary1 = {'a' : 1,\"b\" : \"python\",\"c\" : 3}\n",
    "print(myDictionary1)\n",
    "\n",
    "print(\"Value stored in a : %d\" % myDictionary1['a'])\n",
    "#change value stored in the key a\n",
    "myDictionary1['a'] = 12\n",
    "print(\"Value stored in a : %d\" % myDictionary1['a'])\n",
    "\n",
    "#print all keys\n",
    "print(\"All keys in the dictionary: %s\" % myDictionary1.keys())\n",
    "\n",
    "#print all values\n",
    "print(\"All values in the dictionary: %s\" % myDictionary1.values())\n",
    "\n",
    "#print through loop\n",
    "for keys in myDictionary1.keys():\n",
    "    print(keys)\n"
   ]
  },
  {
   "cell_type": "code",
   "execution_count": 48,
   "metadata": {},
   "outputs": [
    {
     "data": {
      "text/plain": [
       "5"
      ]
     },
     "execution_count": 48,
     "metadata": {},
     "output_type": "execute_result"
    }
   ],
   "source": [
    "#Python function: block of code which does a specific function and runs when called \n",
    "def mysum(x,y):\n",
    "    return x + y\n",
    "\n",
    "#test the function\n",
    "mysum(2,3)\n"
   ]
  },
  {
   "cell_type": "markdown",
   "metadata": {},
   "source": [
    "Numpy: Python library that adds support for large and multidimensional arrays + math functions to operate on those arrays."
   ]
  },
  {
   "cell_type": "code",
   "execution_count": 1,
   "metadata": {},
   "outputs": [
    {
     "name": "stdout",
     "output_type": "stream",
     "text": [
      "[1 2 3]\n",
      "(3,)\n"
     ]
    }
   ],
   "source": [
    "#Create an array \n",
    "import numpy\n",
    "mylist = [1,2,3]\n",
    "myarray1 = numpy.array(mylist)\n",
    "print(myarray1)\n",
    "print(myarray1.shape)"
   ]
  },
  {
   "cell_type": "code",
   "execution_count": 3,
   "metadata": {},
   "outputs": [
    {
     "name": "stdout",
     "output_type": "stream",
     "text": [
      "[[1 2 3]\n",
      " [4 5 6]]\n",
      "(2, 3)\n",
      "First row is [1 2 3]\n",
      "Last row is [4 5 6]\n",
      "Specific row and column is 4\n",
      "First column is [1 4]\n"
     ]
    }
   ],
   "source": [
    "#Accessing data\n",
    "mylist2 = [[1,2,3],[4,5,6]]\n",
    "myarray2 = numpy.array(mylist2)\n",
    "\n",
    "print(myarray2)\n",
    "print(myarray2.shape)\n",
    "\n",
    "print(\"First row is %s\" % myarray2[0])\n",
    "print(\"Last row is %s\" % myarray2[-1])\n",
    "print(\"Specific row and column is %s\" % myarray2[1,0])\n",
    "print(\"First column is %s\" % myarray2[:,0])"
   ]
  },
  {
   "cell_type": "code",
   "execution_count": 5,
   "metadata": {},
   "outputs": [
    {
     "name": "stdout",
     "output_type": "stream",
     "text": [
      "Addition of the two arrays is [5 6 8]\n",
      "Multiplication of the two arrays is [ 4  8 15]\n"
     ]
    }
   ],
   "source": [
    "#Arithmetic on arrays\n",
    "myarray3 = numpy.array([1,2,3])\n",
    "myarray4 = numpy.array([4,4,5])\n",
    "print(\"Addition of the two arrays is %s\" % (myarray3 + myarray4))\n",
    "print(\"Multiplication of the two arrays is %s\" % (myarray3 * myarray4))"
   ]
  },
  {
   "cell_type": "markdown",
   "metadata": {},
   "source": [
    "Matplotlib : Plotting & Charting library\n",
    "\n",
    "General usage:\n",
    "1. Call plotting function with some data\n",
    "2. Configure the plot properties (colors,labels)\n",
    "3. Show plot"
   ]
  },
  {
   "cell_type": "code",
   "execution_count": 7,
   "metadata": {},
   "outputs": [
    {
     "data": {
      "image/png": "[encoded data removed]",
      "text/plain": [
       "<Figure size 432x288 with 1 Axes>"
      ]
     },
     "metadata": {
      "needs_background": "light"
     },
     "output_type": "display_data"
    }
   ],
   "source": [
    "#Line Plot\n",
    "import matplotlib.pyplot as plt\n",
    "\n",
    "myarray = numpy.array([1,2,3])\n",
    "plt.plot(myarray)\n",
    "plt.xlabel('some x axis')\n",
    "plt.ylabel('some y axis')\n",
    "plt.show()"
   ]
  },
  {
   "cell_type": "code",
   "execution_count": 8,
   "metadata": {},
   "outputs": [
    {
     "data": {
      "image/png": "[encoded data removed]",
      "text/plain": [
       "<Figure size 432x288 with 1 Axes>"
      ]
     },
     "metadata": {
      "needs_background": "light"
     },
     "output_type": "display_data"
    }
   ],
   "source": [
    "#2D scatter plot\n",
    "x = numpy.array([1,2,3])\n",
    "y = numpy.array([2,4,6])\n",
    "\n",
    "plt.scatter(x,y)\n",
    "plt.xlabel('some x axis')\n",
    "plt.ylabel('some y axis')\n",
    "plt.show()"
   ]
  },
  {
   "cell_type": "markdown",
   "metadata": {},
   "source": [
    "Pandas: Python library that provides data structures and functionality to manipulate and analyse data. \n",
    "Import data structures: \n",
    "* Series: 1d array where rows and columns can be labeled\n",
    "* Dataframes: Multi-dimensional arrays where rows and columns can be labeled"
   ]
  },
  {
   "cell_type": "code",
   "execution_count": 9,
   "metadata": {},
   "outputs": [
    {
     "name": "stdout",
     "output_type": "stream",
     "text": [
      "a    3\n",
      "b    4\n",
      "c    5\n",
      "dtype: int64\n"
     ]
    }
   ],
   "source": [
    "#Series: \n",
    "import pandas \n",
    "\n",
    "myarray = numpy.array([3,4,5])\n",
    "rownames = ['a','b','c']\n",
    "myseries = pandas.Series(myarray,index=rownames)\n",
    "print(myseries)"
   ]
  },
  {
   "cell_type": "code",
   "execution_count": 10,
   "metadata": {},
   "outputs": [
    {
     "name": "stdout",
     "output_type": "stream",
     "text": [
      "3\n",
      "3\n"
     ]
    }
   ],
   "source": [
    "#Access series data like in a numpy array or a dictionary\n",
    "print(myseries[0])\n",
    "print(myseries['a'])"
   ]
  },
  {
   "cell_type": "code",
   "execution_count": 15,
   "metadata": {},
   "outputs": [
    {
     "name": "stdout",
     "output_type": "stream",
     "text": [
      "   One  Two  Three\n",
      "a    1    2      3\n",
      "b    3    4      5\n"
     ]
    }
   ],
   "source": [
    "#Dataframe :\n",
    "myarray = numpy.array([[1,2,3],[3,4,5]])\n",
    "rownames = ['a','b']\n",
    "colnames = ['One','Two','Three']\n",
    "\n",
    "mydataframe = pandas.DataFrame(myarray,index=rownames,columns=colnames)\n",
    "print(mydataframe)"
   ]
  },
  {
   "cell_type": "code",
   "execution_count": 16,
   "metadata": {},
   "outputs": [
    {
     "name": "stdout",
     "output_type": "stream",
     "text": [
      "One column a    1\n",
      "b    3\n",
      "Name: One, dtype: int64\n",
      "One column a    1\n",
      "b    3\n",
      "Name: One, dtype: int64\n"
     ]
    }
   ],
   "source": [
    "#Data indexing in a dataframe\n",
    "print(\"One column %s\" % mydataframe['One'])\n",
    "print(\"One column %s\" % mydataframe.One)"
   ]
  },
  {
   "cell_type": "code",
   "execution_count": null,
   "metadata": {},
   "outputs": [],
   "source": []
  }
 ],
 "metadata": {
  "kernelspec": {
   "display_name": "Python 3",
   "language": "python",
   "name": "python3"
  },
  "language_info": {
   "codemirror_mode": {
    "name": "ipython",
    "version": 3
   },
   "file_extension": ".py",
   "mimetype": "text/x-python",
   "name": "python",
   "nbconvert_exporter": "python",
   "pygments_lexer": "ipython3",
   "version": "3.8.3"
  },
  "varInspector": {
   "cols": {
    "lenName": 16,
    "lenType": 16,
    "lenVar": 40
   },
   "kernels_config": {
    "python": {
     "delete_cmd_postfix": "",
     "delete_cmd_prefix": "del ",
     "library": "var_list.py",
     "varRefreshCmd": "print(var_dic_list())"
    },
    "r": {
     "delete_cmd_postfix": ") ",
     "delete_cmd_prefix": "rm(",
     "library": "var_list.r",
     "varRefreshCmd": "cat(var_dic_list()) "
    }
   },
   "types_to_exclude": [
    "module",
    "function",
    "builtin_function_or_method",
    "instance",
    "_Feature"
   ],
   "window_display": false
  }
 },
 "nbformat": 4,
 "nbformat_minor": 2
}
