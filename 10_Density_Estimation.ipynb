{
  "nbformat": 4,
  "nbformat_minor": 0,
  "metadata": {
    "colab": {
      "name": "10. Density Estimation.ipynb",
      "provenance": [],
      "toc_visible": true,
      "authorship_tag": "ABX9TyP9h9S4T+jwZEL1V1IK9kxe",
      "include_colab_link": true
    },
    "kernelspec": {
      "name": "python3",
      "display_name": "Python 3"
    },
    "language_info": {
      "name": "python"
    }
  },
  "cells": [
    {
      "cell_type": "markdown",
      "metadata": {
        "id": "view-in-github",
        "colab_type": "text"
      },
      "source": [
        "<a href=\"https://colab.research.google.com/github/Nirzaree/MLWithPython/blob/master/10_Density_Estimation.ipynb\" target=\"_parent\"><img src=\"https://colab.research.google.com/assets/colab-badge.svg\" alt=\"Open In Colab\"/></a>"
      ]
    },
    {
      "cell_type": "markdown",
      "metadata": {
        "id": "xDv1SOPyhRDW"
      },
      "source": [
        "## Concept"
      ]
    },
    {
      "cell_type": "markdown",
      "metadata": {
        "id": "U1wxwV8shUiw"
      },
      "source": [
        "## Setup"
      ]
    },
    {
      "cell_type": "markdown",
      "metadata": {
        "id": "QsD_JNdXffQu"
      },
      "source": [
        "* Importing basemap in colab https://community.insaid.co/hc/en-us/community/posts/360048243414-Installing-Importing-of-Basemap-in-Google-Colab"
      ]
    },
    {
      "cell_type": "code",
      "metadata": {
        "colab": {
          "base_uri": "https://localhost:8080/"
        },
        "id": "JDhyBxmlgRAM",
        "outputId": "35da33f4-3588-4cca-9692-0be4ef79a596"
      },
      "source": [
        "# !apt-get install -q libgeos-3.5.0"
      ],
      "execution_count": null,
      "outputs": [
        {
          "output_type": "stream",
          "text": [
            "Reading package lists...\n",
            "Building dependency tree...\n",
            "Reading state information...\n",
            "E: Unable to locate package libgeos-3.5.0\n",
            "E: Couldn't find any package by glob 'libgeos-3.5.0'\n",
            "E: Couldn't find any package by regex 'libgeos-3.5.0'\n"
          ],
          "name": "stdout"
        }
      ]
    },
    {
      "cell_type": "code",
      "metadata": {
        "colab": {
          "base_uri": "https://localhost:8080/"
        },
        "id": "WdJptdfWgS2v",
        "outputId": "4cf80373-e013-452c-db0c-eab39f96bec8"
      },
      "source": [
        "# !apt-get install -q libgeos-dev"
      ],
      "execution_count": null,
      "outputs": [
        {
          "output_type": "stream",
          "text": [
            "Reading package lists...\n",
            "Building dependency tree...\n",
            "Reading state information...\n",
            "libgeos-dev is already the newest version (3.6.2-1build2).\n",
            "libgeos-dev set to manually installed.\n",
            "0 upgraded, 0 newly installed, 0 to remove and 39 not upgraded.\n"
          ],
          "name": "stdout"
        }
      ]
    },
    {
      "cell_type": "code",
      "metadata": {
        "colab": {
          "base_uri": "https://localhost:8080/"
        },
        "id": "PhW_85jJggZh",
        "outputId": "5a5a024f-0576-446d-8f29-6676bcc3cec6"
      },
      "source": [
        "# !pip install -q https://github.com/matplotlib/basemap/archive/master.zip"
      ],
      "execution_count": null,
      "outputs": [
        {
          "output_type": "stream",
          "text": [
            "\u001b[K     \\ 153.2MB 2.0MB/s\n",
            "\u001b[K     |████████████████████████████████| 6.6MB 14.3MB/s \n",
            "\u001b[K     |████████████████████████████████| 225kB 46.2MB/s \n",
            "\u001b[?25h  Building wheel for basemap (setup.py) ... \u001b[?25l\u001b[?25hdone\n",
            "  Building wheel for pyshp (setup.py) ... \u001b[?25l\u001b[?25hdone\n"
          ],
          "name": "stdout"
        }
      ]
    },
    {
      "cell_type": "code",
      "metadata": {
        "colab": {
          "base_uri": "https://localhost:8080/"
        },
        "id": "h-pL0pDlgjpc",
        "outputId": "7dee17d2-c3c2-43fb-e9fb-86df2b4e6833"
      },
      "source": [
        "# !pip install -q pyproj==1.9.6"
      ],
      "execution_count": null,
      "outputs": [
        {
          "output_type": "stream",
          "text": [
            "\u001b[K     |████████████████████████████████| 2.8MB 14.8MB/s \n",
            "\u001b[?25h  Building wheel for pyproj (setup.py) ... \u001b[?25l\u001b[?25hdone\n"
          ],
          "name": "stdout"
        }
      ]
    },
    {
      "cell_type": "code",
      "metadata": {
        "id": "SrG5GypIhyV7"
      },
      "source": [
        "import numpy as np\n",
        "import pandas as pd \n",
        "import seaborn as sns\n",
        "\n",
        "import matplotlib.pyplot as plt\n",
        "from sklearn.datasets import load_breast_cancer,make_blobs\n",
        "from sklearn.decomposition import PCA\n",
        "from sklearn.cluster import KMeans\n",
        "from sklearn.neighbors import KernelDensity\n",
        "from sklearn.preprocessing import StandardScaler\n",
        "from sklearn.metrics import accuracy_score"
      ],
      "execution_count": null,
      "outputs": []
    },
    {
      "cell_type": "code",
      "metadata": {
        "id": "gtrXJnhOhEPc"
      },
      "source": [
        "from mpl_toolkits.basemap import Basemap"
      ],
      "execution_count": null,
      "outputs": []
    },
    {
      "cell_type": "code",
      "metadata": {
        "id": "nk1ODvufVWIF"
      },
      "source": [
        "np.set_printoptions(precision=2)"
      ],
      "execution_count": null,
      "outputs": []
    },
    {
      "cell_type": "code",
      "metadata": {
        "id": "b9Unt7w2x9Tt"
      },
      "source": [
        "# from google.colab import drive"
      ],
      "execution_count": null,
      "outputs": []
    },
    {
      "cell_type": "code",
      "metadata": {
        "colab": {
          "base_uri": "https://localhost:8080/"
        },
        "id": "OdNWu3C2x_Hf",
        "outputId": "796011f6-c5de-4aaf-fde5-5069ad94c0d5"
      },
      "source": [
        "# drive.mount('/content/drive/')"
      ],
      "execution_count": null,
      "outputs": [
        {
          "output_type": "stream",
          "text": [
            "Mounted at /content/drive/\n"
          ],
          "name": "stdout"
        }
      ]
    },
    {
      "cell_type": "code",
      "metadata": {
        "id": "3r9lOtkjyO2J"
      },
      "source": [
        "# !cp '/content/drive/My Drive/Colab Notebooks/MLWithPython/ADSPYCourseStuff/fruit_data_with_colors.txt' ."
      ],
      "execution_count": null,
      "outputs": []
    },
    {
      "cell_type": "markdown",
      "metadata": {
        "id": "q_OpBPbshX-b"
      },
      "source": [
        "## Case studies"
      ]
    },
    {
      "cell_type": "markdown",
      "metadata": {
        "id": "vFBAeWvAiNgy"
      },
      "source": [
        "### KDE "
      ]
    },
    {
      "cell_type": "markdown",
      "metadata": {
        "id": "SDiEYUG6Ew_i"
      },
      "source": [
        "* Check the beautiful explainer post on KDE at https://mathisonian.github.io/kde/ "
      ]
    },
    {
      "cell_type": "markdown",
      "metadata": {
        "id": "ftf7eeSFiPKW"
      },
      "source": [
        "#### Why not histograms?"
      ]
    },
    {
      "cell_type": "code",
      "metadata": {
        "id": "oeAsn16EiSwy"
      },
      "source": [
        "def make_data(N,f=0.3,rseed=1):\n",
        "  rand = np.random.RandomState(rseed)\n",
        "  x = rand.randn(N)\n",
        "  x[int(f*N):] += 5\n",
        "  return x"
      ],
      "execution_count": null,
      "outputs": []
    },
    {
      "cell_type": "code",
      "metadata": {
        "id": "qWzijJ-wjl-M"
      },
      "source": [
        "x = make_data(1000)"
      ],
      "execution_count": null,
      "outputs": []
    },
    {
      "cell_type": "code",
      "metadata": {
        "colab": {
          "base_uri": "https://localhost:8080/",
          "height": 404
        },
        "id": "Q8EgMj10jrz6",
        "outputId": "97647048-c9a9-4738-f07c-07fc92283ea3"
      },
      "source": [
        "plt.hist(x,bins=30,density=True)"
      ],
      "execution_count": null,
      "outputs": [
        {
          "output_type": "execute_result",
          "data": {
            "text/plain": [
              "(array([0.01, 0.01, 0.02, 0.04, 0.07, 0.08, 0.13, 0.13, 0.1 , 0.09, 0.04,\n",
              "        0.03, 0.03, 0.02, 0.05, 0.05, 0.08, 0.18, 0.24, 0.3 , 0.23, 0.26,\n",
              "        0.19, 0.09, 0.06, 0.02, 0.01, 0.  , 0.  , 0.  ]),\n",
              " array([-2.79, -2.4 , -2.01, -1.62, -1.23, -0.83, -0.44, -0.05,  0.34,\n",
              "         0.73,  1.12,  1.52,  1.91,  2.3 ,  2.69,  3.08,  3.47,  3.87,\n",
              "         4.26,  4.65,  5.04,  5.43,  5.82,  6.22,  6.61,  7.  ,  7.39,\n",
              "         7.78,  8.18,  8.57,  8.96]),\n",
              " <a list of 30 Patch objects>)"
            ]
          },
          "metadata": {
            "tags": []
          },
          "execution_count": 8
        },
        {
          "output_type": "display_data",
          "data": {
            "image/png": "[encoded data removed]",
            "text/plain": [
              "<Figure size 432x288 with 1 Axes>"
            ]
          },
          "metadata": {
            "tags": [],
            "needs_background": "light"
          }
        }
      ]
    },
    {
      "cell_type": "markdown",
      "metadata": {
        "id": "UWHPL4AwSqQv"
      },
      "source": [
        "Now consider a small sample size of the data: e.g. 20 points. "
      ]
    },
    {
      "cell_type": "code",
      "metadata": {
        "colab": {
          "base_uri": "https://localhost:8080/",
          "height": 334
        },
        "id": "6LNERbPp_jVL",
        "outputId": "ce1ed394-892e-43df-a168-275bb041ecfd"
      },
      "source": [
        "x = make_data(20)\n",
        "plt.hist(x,density=True)"
      ],
      "execution_count": null,
      "outputs": [
        {
          "output_type": "execute_result",
          "data": {
            "text/plain": [
              "(array([0.06, 0.17, 0.  , 0.06, 0.06, 0.06, 0.06, 0.33, 0.17, 0.17]),\n",
              " array([-2.3 , -1.4 , -0.49,  0.41,  1.32,  2.22,  3.13,  4.03,  4.94,\n",
              "         5.84,  6.74]),\n",
              " <a list of 10 Patch objects>)"
            ]
          },
          "metadata": {
            "tags": []
          },
          "execution_count": 9
        },
        {
          "output_type": "display_data",
          "data": {
            "image/png": "[encoded data removed]",
            "text/plain": [
              "<Figure size 432x288 with 1 Axes>"
            ]
          },
          "metadata": {
            "tags": [],
            "needs_background": "light"
          }
        }
      ]
    },
    {
      "cell_type": "code",
      "metadata": {
        "colab": {
          "base_uri": "https://localhost:8080/"
        },
        "id": "Hw7MwjfvTIJs",
        "outputId": "05f052a7-9eff-475a-bf0c-9ca2aa86c489"
      },
      "source": [
        "bins = np.linspace(-5,10,10)\n",
        "print(\"Consider the following cluster centers\")\n",
        "print(\"{}\".format(bins))\n",
        "print(\"Bin width = {:.2f}\".format(np.diff(bins)[0]))"
      ],
      "execution_count": null,
      "outputs": [
        {
          "output_type": "stream",
          "text": [
            "Consider the following cluster centers\n",
            "[-5.   -3.33 -1.67  0.    1.67  3.33  5.    6.67  8.33 10.  ]\n",
            "Bin width = 1.67\n"
          ],
          "name": "stdout"
        }
      ]
    },
    {
      "cell_type": "code",
      "metadata": {
        "colab": {
          "base_uri": "https://localhost:8080/",
          "height": 334
        },
        "id": "CvZ3FQMSBvLZ",
        "outputId": "e8663625-6faa-48aa-c33b-a75a946f4da7"
      },
      "source": [
        "plt.hist(x,bins=bins,density=True)"
      ],
      "execution_count": null,
      "outputs": [
        {
          "output_type": "execute_result",
          "data": {
            "text/plain": [
              "(array([0.  , 0.03, 0.09, 0.06, 0.03, 0.21, 0.15, 0.03, 0.  ]),\n",
              " array([-5.  , -3.33, -1.67,  0.  ,  1.67,  3.33,  5.  ,  6.67,  8.33,\n",
              "        10.  ]),\n",
              " <a list of 9 Patch objects>)"
            ]
          },
          "metadata": {
            "tags": []
          },
          "execution_count": 11
        },
        {
          "output_type": "display_data",
          "data": {
            "image/png": "[encoded data removed]",
            "text/plain": [
              "<Figure size 432x288 with 1 Axes>"
            ]
          },
          "metadata": {
            "tags": [],
            "needs_background": "light"
          }
        }
      ]
    },
    {
      "cell_type": "markdown",
      "metadata": {
        "id": "S-unaVzJVx3Z"
      },
      "source": [
        "Looks ok. Now consider the case where the bins are at slightly different locations. "
      ]
    },
    {
      "cell_type": "code",
      "metadata": {
        "colab": {
          "base_uri": "https://localhost:8080/"
        },
        "id": "SjcyNIQGM2nG",
        "outputId": "f14a6b25-2308-493f-ae87-488469647016"
      },
      "source": [
        "bins = np.linspace(-5,10,10) + 0.6\n",
        "print(\"Consider the following cluster centers\")\n",
        "print(\"{}\".format(bins))\n",
        "print(\"Bin width = {:.2f}\".format(np.diff(bins)[0]))"
      ],
      "execution_count": null,
      "outputs": [
        {
          "output_type": "stream",
          "text": [
            "Consider the following cluster centers\n",
            "[-4.4  -2.73 -1.07  0.6   2.27  3.93  5.6   7.27  8.93 10.6 ]\n",
            "Bin width = 1.67\n"
          ],
          "name": "stdout"
        }
      ]
    },
    {
      "cell_type": "code",
      "metadata": {
        "colab": {
          "base_uri": "https://localhost:8080/",
          "height": 334
        },
        "id": "5qXgtkPoCQuI",
        "outputId": "4a911940-2eb0-452d-ccd3-79fdfc032c70"
      },
      "source": [
        "plt.hist(x,bins=bins,density=True)"
      ],
      "execution_count": null,
      "outputs": [
        {
          "output_type": "execute_result",
          "data": {
            "text/plain": [
              "(array([0.  , 0.06, 0.06, 0.06, 0.06, 0.27, 0.09, 0.  , 0.  ]),\n",
              " array([-4.4 , -2.73, -1.07,  0.6 ,  2.27,  3.93,  5.6 ,  7.27,  8.93,\n",
              "        10.6 ]),\n",
              " <a list of 9 Patch objects>)"
            ]
          },
          "metadata": {
            "tags": []
          },
          "execution_count": 13
        },
        {
          "output_type": "display_data",
          "data": {
            "image/png": "[encoded data removed]",
            "text/plain": [
              "<Figure size 432x288 with 1 Axes>"
            ]
          },
          "metadata": {
            "tags": [],
            "needs_background": "light"
          }
        }
      ]
    },
    {
      "cell_type": "markdown",
      "metadata": {
        "id": "lJoctYf2C9V1"
      },
      "source": [
        "When the dataset is small, the choice of bin size and the location can impact the histogram a lot as seen in the case above when moving the bin centers and obtaining completely different histograms. "
      ]
    },
    {
      "cell_type": "markdown",
      "metadata": {
        "id": "GIkyUcztQR6Y"
      },
      "source": [
        "Now instead of aligning the blocks to the bins, we align them to the data points themselves. "
      ]
    },
    {
      "cell_type": "code",
      "metadata": {
        "id": "Kt1HvpGqcSR3"
      },
      "source": [
        "yval = pd.Series(0,index=np.linspace(-5,10,2000))\n"
      ],
      "execution_count": null,
      "outputs": []
    },
    {
      "cell_type": "code",
      "metadata": {
        "colab": {
          "base_uri": "https://localhost:8080/",
          "height": 282
        },
        "id": "Np5zLlQhdxqa",
        "outputId": "52b877fe-76e3-49ba-b0bd-f6cda89c6e9c"
      },
      "source": [
        "plt.plot(yval)"
      ],
      "execution_count": null,
      "outputs": [
        {
          "output_type": "execute_result",
          "data": {
            "text/plain": [
              "[<matplotlib.lines.Line2D at 0x7f710ba1e090>]"
            ]
          },
          "metadata": {
            "tags": []
          },
          "execution_count": 54
        },
        {
          "output_type": "display_data",
          "data": {
            "image/png": "[encoded data removed]",
            "text/plain": [
              "<Figure size 432x288 with 1 Axes>"
            ]
          },
          "metadata": {
            "tags": [],
            "needs_background": "light"
          }
        }
      ]
    },
    {
      "cell_type": "code",
      "metadata": {
        "id": "ReUe8rk_d6Ko"
      },
      "source": [
        "for xval in x:\n",
        "  yval[]"
      ],
      "execution_count": null,
      "outputs": []
    },
    {
      "cell_type": "code",
      "metadata": {
        "colab": {
          "base_uri": "https://localhost:8080/"
        },
        "id": "suUvKCNheCZk",
        "outputId": "c5a3d34c-abc3-4c9e-b72d-5374b01cb916"
      },
      "source": [
        "x[0]"
      ],
      "execution_count": null,
      "outputs": [
        {
          "output_type": "execute_result",
          "data": {
            "text/plain": [
              "1.6243453636632417"
            ]
          },
          "metadata": {
            "tags": []
          },
          "execution_count": 55
        }
      ]
    },
    {
      "cell_type": "code",
      "metadata": {
        "colab": {
          "base_uri": "https://localhost:8080/",
          "height": 486
        },
        "id": "rmUy9z6keEjV",
        "outputId": "8dfff953-cd33-44fc-f1aa-4ee7bebeb2ad"
      },
      "source": [
        "yval.loc(200)"
      ],
      "execution_count": null,
      "outputs": [
        {
          "output_type": "error",
          "ename": "ValueError",
          "evalue": "ignored",
          "traceback": [
            "\u001b[0;31m---------------------------------------------------------------------------\u001b[0m",
            "\u001b[0;31mKeyError\u001b[0m                                  Traceback (most recent call last)",
            "\u001b[0;32m/usr/local/lib/python3.7/dist-packages/pandas/core/generic.py\u001b[0m in \u001b[0;36m_get_axis_number\u001b[0;34m(cls, axis)\u001b[0m\n\u001b[1;32m    367\u001b[0m         \u001b[0;32mtry\u001b[0m\u001b[0;34m:\u001b[0m\u001b[0;34m\u001b[0m\u001b[0;34m\u001b[0m\u001b[0m\n\u001b[0;32m--> 368\u001b[0;31m             \u001b[0;32mreturn\u001b[0m \u001b[0mcls\u001b[0m\u001b[0;34m.\u001b[0m\u001b[0m_AXIS_TO_AXIS_NUMBER\u001b[0m\u001b[0;34m[\u001b[0m\u001b[0maxis\u001b[0m\u001b[0;34m]\u001b[0m\u001b[0;34m\u001b[0m\u001b[0;34m\u001b[0m\u001b[0m\n\u001b[0m\u001b[1;32m    369\u001b[0m         \u001b[0;32mexcept\u001b[0m \u001b[0mKeyError\u001b[0m\u001b[0;34m:\u001b[0m\u001b[0;34m\u001b[0m\u001b[0;34m\u001b[0m\u001b[0m\n",
            "\u001b[0;31mKeyError\u001b[0m: 200",
            "\nDuring handling of the above exception, another exception occurred:\n",
            "\u001b[0;31mValueError\u001b[0m                                Traceback (most recent call last)",
            "\u001b[0;32m<ipython-input-60-7ee5ce88c42b>\u001b[0m in \u001b[0;36m<module>\u001b[0;34m()\u001b[0m\n\u001b[0;32m----> 1\u001b[0;31m \u001b[0myval\u001b[0m\u001b[0;34m.\u001b[0m\u001b[0mloc\u001b[0m\u001b[0;34m(\u001b[0m\u001b[0;36m200\u001b[0m\u001b[0;34m)\u001b[0m\u001b[0;34m\u001b[0m\u001b[0;34m\u001b[0m\u001b[0m\n\u001b[0m",
            "\u001b[0;32m/usr/local/lib/python3.7/dist-packages/pandas/core/indexing.py\u001b[0m in \u001b[0;36m__call__\u001b[0;34m(self, axis)\u001b[0m\n\u001b[1;32m    582\u001b[0m \u001b[0;34m\u001b[0m\u001b[0m\n\u001b[1;32m    583\u001b[0m         \u001b[0;32mif\u001b[0m \u001b[0maxis\u001b[0m \u001b[0;32mis\u001b[0m \u001b[0;32mnot\u001b[0m \u001b[0;32mNone\u001b[0m\u001b[0;34m:\u001b[0m\u001b[0;34m\u001b[0m\u001b[0;34m\u001b[0m\u001b[0m\n\u001b[0;32m--> 584\u001b[0;31m             \u001b[0maxis\u001b[0m \u001b[0;34m=\u001b[0m \u001b[0mself\u001b[0m\u001b[0;34m.\u001b[0m\u001b[0mobj\u001b[0m\u001b[0;34m.\u001b[0m\u001b[0m_get_axis_number\u001b[0m\u001b[0;34m(\u001b[0m\u001b[0maxis\u001b[0m\u001b[0;34m)\u001b[0m\u001b[0;34m\u001b[0m\u001b[0;34m\u001b[0m\u001b[0m\n\u001b[0m\u001b[1;32m    585\u001b[0m         \u001b[0mnew_self\u001b[0m\u001b[0;34m.\u001b[0m\u001b[0maxis\u001b[0m \u001b[0;34m=\u001b[0m \u001b[0maxis\u001b[0m\u001b[0;34m\u001b[0m\u001b[0;34m\u001b[0m\u001b[0m\n\u001b[1;32m    586\u001b[0m         \u001b[0;32mreturn\u001b[0m \u001b[0mnew_self\u001b[0m\u001b[0;34m\u001b[0m\u001b[0;34m\u001b[0m\u001b[0m\n",
            "\u001b[0;32m/usr/local/lib/python3.7/dist-packages/pandas/core/generic.py\u001b[0m in \u001b[0;36m_get_axis_number\u001b[0;34m(cls, axis)\u001b[0m\n\u001b[1;32m    368\u001b[0m             \u001b[0;32mreturn\u001b[0m \u001b[0mcls\u001b[0m\u001b[0;34m.\u001b[0m\u001b[0m_AXIS_TO_AXIS_NUMBER\u001b[0m\u001b[0;34m[\u001b[0m\u001b[0maxis\u001b[0m\u001b[0;34m]\u001b[0m\u001b[0;34m\u001b[0m\u001b[0;34m\u001b[0m\u001b[0m\n\u001b[1;32m    369\u001b[0m         \u001b[0;32mexcept\u001b[0m \u001b[0mKeyError\u001b[0m\u001b[0;34m:\u001b[0m\u001b[0;34m\u001b[0m\u001b[0;34m\u001b[0m\u001b[0m\n\u001b[0;32m--> 370\u001b[0;31m             \u001b[0;32mraise\u001b[0m \u001b[0mValueError\u001b[0m\u001b[0;34m(\u001b[0m\u001b[0;34mf\"No axis named {axis} for object type {cls.__name__}\"\u001b[0m\u001b[0;34m)\u001b[0m\u001b[0;34m\u001b[0m\u001b[0;34m\u001b[0m\u001b[0m\n\u001b[0m\u001b[1;32m    371\u001b[0m \u001b[0;34m\u001b[0m\u001b[0m\n\u001b[1;32m    372\u001b[0m     \u001b[0;34m@\u001b[0m\u001b[0mclassmethod\u001b[0m\u001b[0;34m\u001b[0m\u001b[0;34m\u001b[0m\u001b[0m\n",
            "\u001b[0;31mValueError\u001b[0m: No axis named 200 for object type Series"
          ]
        }
      ]
    },
    {
      "cell_type": "code",
      "metadata": {
        "id": "zIRLG5a5L8AO"
      },
      "source": [
        "x_d = np.linspace(-4,8,10)\n",
        "density = sum(np.abs(x_i - x_d) < 0.5 for x_i in x)"
      ],
      "execution_count": null,
      "outputs": []
    },
    {
      "cell_type": "code",
      "metadata": {
        "colab": {
          "base_uri": "https://localhost:8080/",
          "height": 282
        },
        "id": "L29-_laEMsIv",
        "outputId": "b4248069-2cf1-40dc-bb3c-043b120113fd"
      },
      "source": [
        "plt.fill_between(x_d,density)\n",
        "plt.plot(x,np.full_like(x,-0.1),'|k',markeredgewidth=1)"
      ],
      "execution_count": null,
      "outputs": [
        {
          "output_type": "execute_result",
          "data": {
            "text/plain": [
              "[<matplotlib.lines.Line2D at 0x7f710b952910>]"
            ]
          },
          "metadata": {
            "tags": []
          },
          "execution_count": 48
        },
        {
          "output_type": "display_data",
          "data": {
            "image/png": "[encoded data removed]",
            "text/plain": [
              "<Figure size 432x288 with 1 Axes>"
            ]
          },
          "metadata": {
            "tags": [],
            "needs_background": "light"
          }
        }
      ]
    },
    {
      "cell_type": "markdown",
      "metadata": {
        "id": "znqzsMAMREqy"
      },
      "source": [
        "* New functions learnt:\n",
        "  * plt.fill_between\n",
        "  * np.full_like\n"
      ]
    },
    {
      "cell_type": "markdown",
      "metadata": {
        "id": "4mudZ4-NRQA0"
      },
      "source": [
        ""
      ]
    },
    {
      "cell_type": "code",
      "metadata": {
        "colab": {
          "base_uri": "https://localhost:8080/"
        },
        "id": "pQbe-TRMNWep",
        "outputId": "6861cece-78be-4c7c-dbec-2afb545d1655"
      },
      "source": [
        "np.full_like(x,-0.1)"
      ],
      "execution_count": null,
      "outputs": [
        {
          "output_type": "execute_result",
          "data": {
            "text/plain": [
              "array([-0.1, -0.1, -0.1, -0.1, -0.1, -0.1, -0.1, -0.1, -0.1, -0.1, -0.1,\n",
              "       -0.1, -0.1, -0.1, -0.1, -0.1, -0.1, -0.1, -0.1, -0.1])"
            ]
          },
          "metadata": {
            "tags": []
          },
          "execution_count": 34
        }
      ]
    },
    {
      "cell_type": "code",
      "metadata": {
        "id": "C9mb-A7NDOgQ"
      },
      "source": [
        "from sklearn.neighbors import KernelDensity"
      ],
      "execution_count": null,
      "outputs": []
    },
    {
      "cell_type": "code",
      "metadata": {
        "id": "0fG42sqLFACR"
      },
      "source": [
        "kde = KernelDensity(bandwidth=)"
      ],
      "execution_count": null,
      "outputs": []
    },
    {
      "cell_type": "code",
      "metadata": {
        "colab": {
          "base_uri": "https://localhost:8080/"
        },
        "id": "GsAU2wYTFZxa",
        "outputId": "228f4989-6ea9-4205-f2f0-c94a4ab0b045"
      },
      "source": [
        "kde.fit(x[:,None])"
      ],
      "execution_count": null,
      "outputs": [
        {
          "output_type": "execute_result",
          "data": {
            "text/plain": [
              "KernelDensity(algorithm='auto', atol=0, bandwidth=1.0, breadth_first=True,\n",
              "              kernel='gaussian', leaf_size=40, metric='euclidean',\n",
              "              metric_params=None, rtol=0)"
            ]
          },
          "metadata": {
            "tags": []
          },
          "execution_count": 25
        }
      ]
    },
    {
      "cell_type": "code",
      "metadata": {
        "id": "TpWItbb2Fnuc"
      },
      "source": [
        "kdescores = kde.score_samples(x[:,None])"
      ],
      "execution_count": null,
      "outputs": []
    },
    {
      "cell_type": "code",
      "metadata": {
        "colab": {
          "base_uri": "https://localhost:8080/",
          "height": 282
        },
        "id": "ouvuX9b1Gh7d",
        "outputId": "ac92420f-c1e6-4c79-b536-c3d1f4abe775"
      },
      "source": [
        "plt.fill_between(x,np.exp(kdescores))\n",
        "plt.plot(x,np.full_like(x,-0.01),'|k',)"
      ],
      "execution_count": null,
      "outputs": [
        {
          "output_type": "execute_result",
          "data": {
            "text/plain": [
              "[<matplotlib.lines.Line2D at 0x7fb30ce7cfd0>]"
            ]
          },
          "metadata": {
            "tags": []
          },
          "execution_count": 30
        },
        {
          "output_type": "display_data",
          "data": {
            "image/png": "[encoded data removed]",
            "text/plain": [
              "<Figure size 432x288 with 1 Axes>"
            ]
          },
          "metadata": {
            "tags": [],
            "needs_background": "light"
          }
        }
      ]
    },
    {
      "cell_type": "markdown",
      "metadata": {
        "id": "YWQ6pr_glK5C"
      },
      "source": [
        "* Reference: https://jakevdp.github.io/PythonDataScienceHandbook/05.13-kernel-density-estimation.html"
      ]
    },
    {
      "cell_type": "markdown",
      "metadata": {
        "id": "Bi2pUk5vUwo8"
      },
      "source": [
        "### KDE on synthetic data"
      ]
    },
    {
      "cell_type": "markdown",
      "metadata": {
        "id": "PhjBDfkEU1ID"
      },
      "source": [
        "### KDE based heatmap on Geographic data"
      ]
    },
    {
      "cell_type": "code",
      "metadata": {
        "id": "rFW5xLqWVFMh"
      },
      "source": [
        "from sklearn.datasets import fetch_species_distributions"
      ],
      "execution_count": null,
      "outputs": []
    },
    {
      "cell_type": "code",
      "metadata": {
        "id": "Qc6acxqRhVqf"
      },
      "source": [
        "from sklearn.datasets.species_distributions import construct_grids"
      ],
      "execution_count": null,
      "outputs": []
    },
    {
      "cell_type": "code",
      "metadata": {
        "id": "9ix1m2CxVM-d"
      },
      "source": [
        "SpeciesData = fetch_species_distributions()"
      ],
      "execution_count": null,
      "outputs": []
    },
    {
      "cell_type": "code",
      "metadata": {
        "colab": {
          "base_uri": "https://localhost:8080/"
        },
        "id": "CMg8gvK0Vw6r",
        "outputId": "613c1d1c-a0a9-4675-80f2-b8b3bd49c269"
      },
      "source": [
        "# SpeciesData\n",
        "type(SpeciesData)"
      ],
      "execution_count": null,
      "outputs": [
        {
          "output_type": "execute_result",
          "data": {
            "text/plain": [
              "sklearn.utils.Bunch"
            ]
          },
          "metadata": {
            "tags": []
          },
          "execution_count": 7
        }
      ]
    },
    {
      "cell_type": "code",
      "metadata": {
        "id": "AkS5N5OSWIiY"
      },
      "source": [
        "latlon = np.vstack([SpeciesData.train['dd lat'],\n",
        "                   SpeciesData.train['dd long']]).T"
      ],
      "execution_count": null,
      "outputs": []
    },
    {
      "cell_type": "code",
      "metadata": {
        "id": "wi408TFCZO88",
        "colab": {
          "base_uri": "https://localhost:8080/"
        },
        "outputId": "0213dcf8-99aa-4491-d227-bf42ad7ced98"
      },
      "source": [
        "np.unique(SpeciesData.train['species'])"
      ],
      "execution_count": null,
      "outputs": [
        {
          "output_type": "execute_result",
          "data": {
            "text/plain": [
              "array([b'bradypus_variegatus', b'bradypus_variegatus_0',\n",
              "       b'bradypus_variegatus_1', b'bradypus_variegatus_2',\n",
              "       b'bradypus_variegatus_3', b'bradypus_variegatus_4',\n",
              "       b'bradypus_variegatus_5', b'bradypus_variegatus_6',\n",
              "       b'bradypus_variegatus_7', b'bradypus_variegatus_8',\n",
              "       b'bradypus_variegatus_9', b'microryzomys_minutus',\n",
              "       b'microryzomys_minutus_0', b'microryzomys_minutus_1',\n",
              "       b'microryzomys_minutus_2', b'microryzomys_minutus_3',\n",
              "       b'microryzomys_minutus_4', b'microryzomys_minutus_5',\n",
              "       b'microryzomys_minutus_6', b'microryzomys_minutus_7',\n",
              "       b'microryzomys_minutus_8', b'microryzomys_minutus_9'], dtype='|S22')"
            ]
          },
          "metadata": {
            "tags": []
          },
          "execution_count": 9
        }
      ]
    },
    {
      "cell_type": "markdown",
      "metadata": {
        "id": "5qjJOGikaKD2"
      },
      "source": [
        "* We convert the various labels within the 2 species to just the main species labels. \n",
        "\n",
        "* However the species data is of bytes type, so we decode it to ascii and then map the data to 2 categories"
      ]
    },
    {
      "cell_type": "code",
      "metadata": {
        "id": "9pi8Qo2PdlT_"
      },
      "source": [
        "species = np.array(['micro' in x.decode('ascii') for x in SpeciesData.train['species']],dtype='int')"
      ],
      "execution_count": null,
      "outputs": []
    },
    {
      "cell_type": "code",
      "metadata": {
        "colab": {
          "base_uri": "https://localhost:8080/"
        },
        "id": "19VLGtHldqS0",
        "outputId": "6074f3d3-11ce-4a6a-a8d0-a52cdeb2f2a3"
      },
      "source": [
        "np.unique(species)"
      ],
      "execution_count": null,
      "outputs": [
        {
          "output_type": "execute_result",
          "data": {
            "text/plain": [
              "array([0, 1])"
            ]
          },
          "metadata": {
            "tags": []
          },
          "execution_count": 11
        }
      ]
    },
    {
      "cell_type": "code",
      "metadata": {
        "id": "HfJahEEKhM3-"
      },
      "source": [
        "x_grid,y_grid = construct_grids(SpeciesData)"
      ],
      "execution_count": null,
      "outputs": []
    },
    {
      "cell_type": "code",
      "metadata": {
        "colab": {
          "base_uri": "https://localhost:8080/"
        },
        "id": "EJpnO2DVZV2e",
        "outputId": "af1b73b5-d193-4b19-af1c-c1473f75bc00"
      },
      "source": [
        "print(x_grid.shape)\n",
        "print(y_grid.shape)"
      ],
      "execution_count": null,
      "outputs": [
        {
          "output_type": "stream",
          "text": [
            "(1212,)\n",
            "(1592,)\n"
          ],
          "name": "stdout"
        }
      ]
    },
    {
      "cell_type": "code",
      "metadata": {
        "id": "llvMQP-siW5O"
      },
      "source": [
        "m = Basemap(llcrnrlon=x_grid.min(),urcrnrlon=x_grid.max(),\n",
        "            llcrnrlat=y_grid.min(), urcrnrlat = y_grid.max())"
      ],
      "execution_count": null,
      "outputs": []
    },
    {
      "cell_type": "code",
      "metadata": {
        "colab": {
          "base_uri": "https://localhost:8080/",
          "height": 269
        },
        "id": "5qi6rl0h7X3-",
        "outputId": "dd7f4043-c769-472c-9fa3-def5a6bd06fd"
      },
      "source": [
        "m.drawmapboundary(fill_color='#DDEEFF')\n",
        "m.fillcontinents()\n",
        "m.drawcountries(zorder=2)\n",
        "m.drawcoastlines(zorder=2)\n",
        "\n",
        "#plot locations\n",
        "m.scatter(latlon[:,1],latlon[:,0],\n",
        "          c=species,\n",
        "          zorder=3,\n",
        "          cmap='rainbow',\n",
        "          latlon=True)"
      ],
      "execution_count": null,
      "outputs": [
        {
          "output_type": "execute_result",
          "data": {
            "text/plain": [
              "<matplotlib.collections.PathCollection at 0x7f64c21f23d0>"
            ]
          },
          "metadata": {
            "tags": []
          },
          "execution_count": 31
        },
        {
          "output_type": "display_data",
          "data": {
            "image/png": "[encoded data removed]",
            "text/plain": [
              "<Figure size 432x288 with 1 Axes>"
            ]
          },
          "metadata": {
            "tags": []
          }
        }
      ]
    },
    {
      "cell_type": "markdown",
      "metadata": {
        "id": "X0aMgGAZ8wiV"
      },
      "source": [
        "* The raw data plot doesnt give a good idea about the density of distribution of the species across the locations. \n",
        "\n",
        "* We now plot kde of the data on the map"
      ]
    },
    {
      "cell_type": "code",
      "metadata": {
        "colab": {
          "base_uri": "https://localhost:8080/"
        },
        "id": "DLN5HGkC-vl_",
        "outputId": "9a0bf51e-f8a1-4e67-8842-9b808588b337"
      },
      "source": [
        "len(latlon)"
      ],
      "execution_count": null,
      "outputs": [
        {
          "output_type": "execute_result",
          "data": {
            "text/plain": [
              "1624"
            ]
          },
          "metadata": {
            "tags": []
          },
          "execution_count": 36
        }
      ]
    },
    {
      "cell_type": "code",
      "metadata": {
        "colab": {
          "base_uri": "https://localhost:8080/"
        },
        "id": "IKmrJxhx9R57",
        "outputId": "5d999cb7-de37-4286-a05f-40a676fb7bc4"
      },
      "source": [
        "## Species 1: \n",
        "\n",
        "kde = KernelDensity(\n",
        "    bandwidth=0.3,\n",
        "    metric='haversine'\n",
        ")\n",
        "kde.fit(latlon[species == 0])\n"
      ],
      "execution_count": null,
      "outputs": [
        {
          "output_type": "execute_result",
          "data": {
            "text/plain": [
              "KernelDensity(algorithm='auto', atol=0, bandwidth=0.3, breadth_first=True,\n",
              "              kernel='gaussian', leaf_size=40, metric='haversine',\n",
              "              metric_params=None, rtol=0)"
            ]
          },
          "metadata": {
            "tags": []
          },
          "execution_count": 38
        }
      ]
    },
    {
      "cell_type": "markdown",
      "metadata": {
        "id": "xw_OuYbmTG-U"
      },
      "source": [
        "* Defining land areas  "
      ]
    },
    {
      "cell_type": "code",
      "metadata": {
        "colab": {
          "base_uri": "https://localhost:8080/"
        },
        "id": "spMebPskQgWs",
        "outputId": "6b85c8fd-086c-4f04-fb98-7c208bb3d8b1"
      },
      "source": [
        " SpeciesData.coverages.shape"
      ],
      "execution_count": null,
      "outputs": [
        {
          "output_type": "execute_result",
          "data": {
            "text/plain": [
              "(14, 1592, 1212)"
            ]
          },
          "metadata": {
            "tags": []
          },
          "execution_count": 40
        }
      ]
    },
    {
      "cell_type": "code",
      "metadata": {
        "colab": {
          "base_uri": "https://localhost:8080/"
        },
        "id": "X2L7dFD1SO24",
        "outputId": "c7bd20e1-7455-4319-c2e7-82c6c879a5fb"
      },
      "source": [
        " SpeciesData.coverages[6].shape"
      ],
      "execution_count": null,
      "outputs": [
        {
          "output_type": "execute_result",
          "data": {
            "text/plain": [
              "(1592, 1212)"
            ]
          },
          "metadata": {
            "tags": []
          },
          "execution_count": 42
        }
      ]
    },
    {
      "cell_type": "code",
      "metadata": {
        "id": "ElXhZYf8SVn5"
      },
      "source": [
        "landreference = SpeciesData.coverages[6][::5,::5]"
      ],
      "execution_count": null,
      "outputs": []
    },
    {
      "cell_type": "markdown",
      "metadata": {
        "id": "kkKE89eyT12M"
      },
      "source": [
        "Flatten the array"
      ]
    },
    {
      "cell_type": "code",
      "metadata": {
        "colab": {
          "base_uri": "https://localhost:8080/"
        },
        "id": "DzG6uuTFT05o",
        "outputId": "07c45992-1ad4-4528-f237-7a6ef8f10c5b"
      },
      "source": [
        "landreference.shape"
      ],
      "execution_count": null,
      "outputs": [
        {
          "output_type": "execute_result",
          "data": {
            "text/plain": [
              "(319, 243)"
            ]
          },
          "metadata": {
            "tags": []
          },
          "execution_count": 49
        }
      ]
    },
    {
      "cell_type": "code",
      "metadata": {
        "id": "GGo-vj2-T58J"
      },
      "source": [
        "landmask = (landreference > -9999).ravel()"
      ],
      "execution_count": null,
      "outputs": []
    },
    {
      "cell_type": "code",
      "metadata": {
        "colab": {
          "base_uri": "https://localhost:8080/"
        },
        "id": "-QbKr4g1UdmK",
        "outputId": "bebdf486-0c15-4b90-b374-f0e0c4ec789b"
      },
      "source": [
        "latlon.shape"
      ],
      "execution_count": null,
      "outputs": [
        {
          "output_type": "execute_result",
          "data": {
            "text/plain": [
              "(1624, 2)"
            ]
          },
          "metadata": {
            "tags": []
          },
          "execution_count": 61
        }
      ]
    },
    {
      "cell_type": "code",
      "metadata": {
        "id": "vK29gK1s_Xco"
      },
      "source": [
        "m = Basemap(llcrnrlon=x_grid.min(),urcrnrlon=x_grid.max(),\n",
        "            llcrnrlat=y_grid.min(), urcrnrlat = y_grid.max())\n",
        "m.drawmapboundary(fill_color='#DDEEFF')\n",
        "m.fillcontinents()\n",
        "m.drawcountries(zorder=2)\n",
        "m.drawcoastlines(zorder=2)\n",
        "\n",
        "#plot locations\n",
        "m.scatter(kde[:,1],kde[:,0],\n",
        "          c=species,\n",
        "          zorder=3,\n",
        "          cmap='rainbow',\n",
        "          latlon=True)"
      ],
      "execution_count": null,
      "outputs": []
    },
    {
      "cell_type": "markdown",
      "metadata": {
        "id": "qsYf54E2B18i"
      },
      "source": [
        "## References & further reading:\n",
        "Reading:\n",
        "\n",
        "1. KDE Reading: https://homepages.inf.ed.ac.uk/rbf/CVonline/LOCAL_COPIES/AV0405/MISHRA/kde.html\n",
        "\n",
        "References:\n",
        "1. Applied Data Science in Python Course - Coursera\n",
        "\n",
        "\n",
        "\n"
      ]
    }
  ]
}